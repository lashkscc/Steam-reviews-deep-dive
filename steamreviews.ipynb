{
 "cells": [
  {
   "cell_type": "markdown",
   "metadata": {},
   "source": [
    "## Steam Reviews Get!\n",
    "\n",
    "This will act as a live document as I use it to source, clean and analyze a dataset sourced from Steam. \n"
   ]
  },
  {
   "cell_type": "markdown",
   "metadata": {},
   "source": [
    "#### Objectives\n",
    "* Source a dataset of all English reviews on steam!\n",
    "    * Access publicly available api calls for store.steampowered\n",
    "    * end with a dataframe for which a row will hold the app title/id, review author details, and review details\n",
    "* Write and save dataset to Kaggle for convenience\n",
    "* Thoroughly document process to help learn and also later reference as a tutorial\n",
    "\n",
    "#### Concerns\n",
    "* Avoiding DOS\n",
    "    * I'm making an obscene number of requests from Valve what happens if I request too much?\n",
    "    * Can I limit the amount of requests I make and request in a piecemeal fashion?\n",
    "        * From research, it looks like steam limits the amount of requests allowed to 100,000 per calendar day. \n",
    "        * Approach two different ways: sleep an amount every request to ensure I don't go over (865ms per request) or count requests via a global variable and sleep on 100,000\n",
    "        "
   ]
  },
  {
   "cell_type": "code",
   "execution_count": 67,
   "metadata": {},
   "outputs": [],
   "source": [
    "import pandas as pd\n",
    "import requests\n",
    "import time"
   ]
  },
  {
   "cell_type": "code",
   "execution_count": 51,
   "metadata": {},
   "outputs": [],
   "source": [
    "\n",
    "\n",
    "URL= \"https://store.steampowered.com/appreviews/317710?json=1\"\n",
    "cursor = '*'\n",
    "PARAMS = {\n",
    "    'filter':'updated',\n",
    "    'language':'english',\n",
    "    'cursor': cursor,\n",
    "    'purchase_type':'all',\n",
    "    'num_per_page' : 1,\n",
    "}\n",
    "\n",
    "1533420\n",
    "r = requests.get(URL, PARAMS)\n",
    "r=r.json()"
   ]
  },
  {
   "cell_type": "code",
   "execution_count": 52,
   "metadata": {},
   "outputs": [
    {
     "name": "stdout",
     "output_type": "stream",
     "text": [
      "{'success': 1, 'query_summary': {'num_reviews': 1, 'review_score': 8, 'review_score_desc': 'Very Positive', 'total_positive': 346, 'total_negative': 50, 'total_reviews': 396}, 'reviews': [{'recommendationid': '115975941', 'author': {'steamid': '76561198091142053', 'num_games_owned': 239, 'num_reviews': 2, 'playtime_forever': 6438, 'playtime_last_two_weeks': 9, 'playtime_at_review': 6428, 'last_played': 1655940748}, 'language': 'english', 'review': \"If you like anything you see of this, or you go and play the Demo version and like what you see, the whole game is exactly as shown. Fast paced, quick to get started (as in you die and can, within a second, start again), and all about memorizing the different segments of each level. Not a forgiving game, and if you have anger issues, be prepared to step back and breath. But really rewarding when you finally Beat it and get to level 9 and not just survive, but flourish.\\n\\nWarning, How the game plays it directly related to your frame rate. Even after the update stating that they fixed the issue, it's still sort of present. Make sure your Machine is capable of running this game well, else it will be more difficult than it needs to be (Or neigh impossible if bad enough).\\n\\nSeriously though,\\n10/10 Will Always Play Again=]\", 'timestamp_created': 1653459303, 'timestamp_updated': 1653459303, 'voted_up': True, 'votes_up': 0, 'votes_funny': 0, 'weighted_vote_score': 0, 'comment_count': 0, 'steam_purchase': True, 'received_for_free': False, 'written_during_early_access': False}], 'cursor': 'AoJ4pdf2/IADdfC0ugM='}\n",
      "396\n",
      "AoJ4pdf2/IADdfC0ugM=\n"
     ]
    }
   ],
   "source": [
    "print(r)\n",
    "\n",
    "print(r[\"query_summary\"]['total_reviews'])\n",
    "print(r[\"cursor\"])"
   ]
  },
  {
   "cell_type": "code",
   "execution_count": 94,
   "metadata": {},
   "outputs": [],
   "source": [
    "# print(r[\"reviews\"])\n",
    "df = pd.json_normalize(r[\"reviews\"])\n",
    "# df.head()"
   ]
  },
  {
   "cell_type": "code",
   "execution_count": 68,
   "metadata": {},
   "outputs": [],
   "source": [
    "def getAppReviews(app, step, pause):\n",
    "    URL = \"https://store.steampowered.com/appreviews/\" + str(app) +\"?json=1\"\n",
    "\n",
    "    tally=step\n",
    "    PARAMS = {\n",
    "        'language':'english',\n",
    "        'filter':'updated',\n",
    "        'purchase_type':'all',\n",
    "        'cursor': '*', #initial value defined in steam's documentation\n",
    "        'num_per_page' : step,\n",
    "    }\n",
    "\n",
    "    r = requests.get(URL, PARAMS)\n",
    "    r=r.json()\n",
    "    nCursor = {'cursor' : r[\"cursor\"]}\n",
    "    PARAMS.update(nCursor)\n",
    "    total = r[\"query_summary\"]['total_reviews']\n",
    "    df = pd.json_normalize(r[\"reviews\"])\n",
    "    while tally < total:\n",
    "        time.sleep(pause)\n",
    "        r = requests.get(URL, PARAMS)\n",
    "        r=r.json()\n",
    "        df = pd.concat([df, (pd.json_normalize(r[\"reviews\"]))])\n",
    "        tally += step\n",
    "        nCursor = {'cursor' : r[\"cursor\"]}\n",
    "        PARAMS.update(nCursor)\n",
    "    return df\n",
    "    "
   ]
  },
  {
   "cell_type": "code",
   "execution_count": 70,
   "metadata": {},
   "outputs": [],
   "source": [
    "df = getAppReviews(317710, 51, 0.87)"
   ]
  },
  {
   "cell_type": "code",
   "execution_count": 65,
   "metadata": {},
   "outputs": [
    {
     "data": {
      "text/plain": [
       "(396, 20)"
      ]
     },
     "execution_count": 65,
     "metadata": {},
     "output_type": "execute_result"
    }
   ],
   "source": [
    "df.shape"
   ]
  },
  {
   "cell_type": "markdown",
   "metadata": {},
   "source": [
    "We now have a method to get reviews given a specific app. Next we get a list of all apps to call from."
   ]
  },
  {
   "cell_type": "markdown",
   "metadata": {},
   "source": []
  },
  {
   "cell_type": "code",
   "execution_count": 6,
   "metadata": {},
   "outputs": [
    {
     "ename": "AttributeError",
     "evalue": "'dict' object has no attribute 'head'",
     "output_type": "error",
     "traceback": [
      "\u001b[1;31m---------------------------------------------------------------------------\u001b[0m",
      "\u001b[1;31mAttributeError\u001b[0m                            Traceback (most recent call last)",
      "\u001b[1;32md:\\Personal Projects\\Data analysis\\Steam-reviews-deep-dive\\steamreviews.ipynb Cell 12'\u001b[0m in \u001b[0;36m<cell line: 4>\u001b[1;34m()\u001b[0m\n\u001b[0;32m      <a href='vscode-notebook-cell:/d%3A/Personal%20Projects/Data%20analysis/Steam-reviews-deep-dive/steamreviews.ipynb#ch0000011?line=0'>1</a>\u001b[0m apps \u001b[39m=\u001b[39m requests\u001b[39m.\u001b[39mget(\u001b[39m\"\u001b[39m\u001b[39mhttps://api.steampowered.com/ISteamApps/GetAppList/v2/\u001b[39m\u001b[39m\"\u001b[39m)\n\u001b[0;32m      <a href='vscode-notebook-cell:/d%3A/Personal%20Projects/Data%20analysis/Steam-reviews-deep-dive/steamreviews.ipynb#ch0000011?line=1'>2</a>\u001b[0m apps\u001b[39m=\u001b[39mapps\u001b[39m.\u001b[39mjson()\n\u001b[1;32m----> <a href='vscode-notebook-cell:/d%3A/Personal%20Projects/Data%20analysis/Steam-reviews-deep-dive/steamreviews.ipynb#ch0000011?line=3'>4</a>\u001b[0m \u001b[39mprint\u001b[39m(apps\u001b[39m.\u001b[39;49mhead())\n",
      "\u001b[1;31mAttributeError\u001b[0m: 'dict' object has no attribute 'head'"
     ]
    }
   ],
   "source": [
    "apps = requests.get(\"https://api.steampowered.com/ISteamApps/GetAppList/v2/\")\n",
    "apps=apps.json()"
   ]
  },
  {
   "cell_type": "code",
   "execution_count": 13,
   "metadata": {},
   "outputs": [],
   "source": [
    "df = pd.json_normalize(apps[\"applist\"][\"apps\"])"
   ]
  },
  {
   "cell_type": "code",
   "execution_count": 14,
   "metadata": {},
   "outputs": [
    {
     "data": {
      "text/plain": [
       "<bound method NDFrame.head of           appid                                         name\n",
       "0       2016512                                             \n",
       "1       2025850              X Wars Deluxe - Line Effect DLC\n",
       "2       2025960                                         海岛守卫\n",
       "3       2025980  FPS Seduce - Hentai - Appreciation Room DLC\n",
       "4       2026000                         Our Adventurer Guild\n",
       "...         ...                                          ...\n",
       "146177   838410                          Tabletop Playground\n",
       "146178   359550               Tom Clancy's Rainbow Six Siege\n",
       "146179  1990990                                  AstroTrucks\n",
       "146180   473950                              Manifold Garden\n",
       "146181  1012790                           Into the Radius VR\n",
       "\n",
       "[146182 rows x 2 columns]>"
      ]
     },
     "execution_count": 14,
     "metadata": {},
     "output_type": "execute_result"
    }
   ],
   "source": [
    "df.head"
   ]
  },
  {
   "cell_type": "code",
   "execution_count": 16,
   "metadata": {},
   "outputs": [
    {
     "data": {
      "text/plain": [
       "<bound method NDFrame.head of           appid                                         name\n",
       "0       2016512                                             \n",
       "1       2025850              X Wars Deluxe - Line Effect DLC\n",
       "2       2025960                                         海岛守卫\n",
       "3       2025980  FPS Seduce - Hentai - Appreciation Room DLC\n",
       "4       2026000                         Our Adventurer Guild\n",
       "...         ...                                          ...\n",
       "146177   838410                          Tabletop Playground\n",
       "146178   359550               Tom Clancy's Rainbow Six Siege\n",
       "146179  1990990                                  AstroTrucks\n",
       "146180   473950                              Manifold Garden\n",
       "146181  1012790                           Into the Radius VR\n",
       "\n",
       "[146182 rows x 2 columns]>"
      ]
     },
     "execution_count": 16,
     "metadata": {},
     "output_type": "execute_result"
    }
   ],
   "source": [
    "dc=df.dropna()\n",
    "dc.head"
   ]
  }
 ],
 "metadata": {
  "kernelspec": {
   "display_name": "Python 3.10.4 ('.venv': poetry)",
   "language": "python",
   "name": "python3"
  },
  "language_info": {
   "codemirror_mode": {
    "name": "ipython",
    "version": 3
   },
   "file_extension": ".py",
   "mimetype": "text/x-python",
   "name": "python",
   "nbconvert_exporter": "python",
   "pygments_lexer": "ipython3",
   "version": "3.10.4"
  },
  "orig_nbformat": 4,
  "vscode": {
   "interpreter": {
    "hash": "4ee81009d6d9a07bca774aad8c0a6d352d061c6bbbb056f5c5eb5097d6bf7274"
   }
  }
 },
 "nbformat": 4,
 "nbformat_minor": 2
}
