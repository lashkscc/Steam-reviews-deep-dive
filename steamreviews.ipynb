{
 "cells": [
  {
   "cell_type": "markdown",
   "metadata": {},
   "source": [
    "Will act as a live document as I test and play around with analyzing steam reviews via a valve sourced dataset"
   ]
  },
  {
   "cell_type": "code",
   "execution_count": null,
   "metadata": {},
   "outputs": [],
   "source": []
  }
 ],
 "metadata": {
  "kernelspec": {
   "display_name": "Python 3.10.4 ('.venv': poetry)",
   "language": "python",
   "name": "python3"
  },
  "language_info": {
   "name": "python",
   "version": "3.10.4"
  },
  "orig_nbformat": 4,
  "vscode": {
   "interpreter": {
    "hash": "485f7272c7528e7f3c204fcda0a79eeb60cbc584ad68f3b2c5bcc4d0134041b1"
   }
  }
 },
 "nbformat": 4,
 "nbformat_minor": 2
}
