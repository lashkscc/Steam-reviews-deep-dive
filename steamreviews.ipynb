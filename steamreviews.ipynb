{
 "cells": [
  {
   "cell_type": "markdown",
   "metadata": {},
   "source": [
    "## Steam Reviews Get!\n",
    "\n",
    "This will act as a live document as I use it to source, clean and analyze a dataset sourced from Steam. \n"
   ]
  },
  {
   "cell_type": "markdown",
   "metadata": {},
   "source": [
    "#### Objectives\n",
    "* Source a dataset of all English reviews on steam!\n",
    "    * Access publicly available api calls for store.steampowered\n",
    "    * end with a dataframe for which a row will hold the app title/id, review author details, and review details\n",
    "* Write and save dataset to Kaggle for convenience\n",
    "* Thoroughly document process to help learn and also later reference as a tutorial\n",
    "\n",
    "#### Concerns\n",
    "* Avoiding DOS\n",
    "    * I'm making an obscene number of requests from Valve what happens if I request too much?\n",
    "    * Can I limit the amount of requests I make and request in a piecemeal fashion?\n",
    "        * From research, it looks like steam limits the amount of requests allowed to 100,000 per calendar day. \n",
    "        * Approach two different ways: sleep an amount every request to ensure I don't go over (865ms per request) or count requests via a global variable and sleep on 100,000\n",
    "        "
   ]
  },
  {
   "cell_type": "code",
   "execution_count": 92,
   "metadata": {},
   "outputs": [],
   "source": [
    "import pandas as pd"
   ]
  },
  {
   "cell_type": "code",
   "execution_count": 59,
   "metadata": {},
   "outputs": [],
   "source": [
    "import requests\n",
    "\n",
    "URL= \"https://store.steampowered.com/appreviews/1533420?json=1\"\n",
    "cursor = '*'\n",
    "PARAMS = {\n",
    "    'language':'english',\n",
    "    'cursor': cursor,\n",
    "    'num_per_page' : 1,\n",
    "}\n",
    "\n",
    "1533420\n",
    "r = requests.get(URL, PARAMS)\n",
    "r=r.json()"
   ]
  },
  {
   "cell_type": "code",
   "execution_count": 85,
   "metadata": {},
   "outputs": [
    {
     "name": "stdout",
     "output_type": "stream",
     "text": [
      "1265\n",
      "AoIIP3ADBH73874D\n"
     ]
    }
   ],
   "source": [
    "# print(r)\n",
    "\n",
    "print(r[\"query_summary\"]['total_reviews'])\n",
    "print(r[\"cursor\"])"
   ]
  },
  {
   "cell_type": "code",
   "execution_count": 94,
   "metadata": {},
   "outputs": [],
   "source": [
    "# print(r[\"reviews\"])\n",
    "df = pd.json_normalize(r[\"reviews\"])\n",
    "# df.head()"
   ]
  },
  {
   "cell_type": "code",
   "execution_count": 82,
   "metadata": {},
   "outputs": [],
   "source": [
    "def getAppReviews(app, step):\n",
    "    URL = \"https://store.steampowered.com/appreviews/\" + str(app) +\"?json=1\"\n",
    "\n",
    "    tally=step\n",
    "    PARAMS = {\n",
    "        'language':'english',\n",
    "        'cursor': '*', #initial value defined in steam's documentation\n",
    "        'num_per_page' : step,\n",
    "    }\n",
    "\n",
    "    r = requests.get(URL, PARAMS)\n",
    "    r=r.json()\n",
    "    nCursor = {'cursor' : r[\"cursor\"]}\n",
    "    PARAMS.update(nCursor)\n",
    "    total = r[\"query_summary\"]['total_reviews']\n",
    "    df = pd.json_normalize(r[\"reviews\"])\n",
    "    while tally < total:\n",
    "        r = requests.get(URL, PARAMS)\n",
    "        r=r.json()\n",
    "        df = pd.concat([df, (pd.json_normalize(r[\"reviews\"]))])\n",
    "        tally += step\n",
    "        nCursor = {'cursor' : r[\"cursor\"]}\n",
    "        PARAMS.update(nCursor)\n",
    "    return df\n",
    "    "
   ]
  },
  {
   "cell_type": "code",
   "execution_count": 90,
   "metadata": {},
   "outputs": [],
   "source": [
    "df = getAppReviews(1533420, 50)"
   ]
  },
  {
   "cell_type": "code",
   "execution_count": 91,
   "metadata": {},
   "outputs": [
    {
     "data": {
      "text/plain": [
       "(1246, 22)"
      ]
     },
     "execution_count": 91,
     "metadata": {},
     "output_type": "execute_result"
    }
   ],
   "source": [
    "df.shape"
   ]
  },
  {
   "cell_type": "markdown",
   "metadata": {},
   "source": [
    "We now have a method to get reviews given a specific app. Next we get a list of all apps to call from."
   ]
  },
  {
   "cell_type": "markdown",
   "metadata": {},
   "source": []
  }
 ],
 "metadata": {
  "interpreter": {
   "hash": "9b4d75ac280b6c7c3aa43866cb82dc88915409b55fec83a093dd0284cb58708e"
  },
  "kernelspec": {
   "display_name": "Python 3.10.4 64-bit",
   "language": "python",
   "name": "python3"
  },
  "language_info": {
   "codemirror_mode": {
    "name": "ipython",
    "version": 3
   },
   "file_extension": ".py",
   "mimetype": "text/x-python",
   "name": "python",
   "nbconvert_exporter": "python",
   "pygments_lexer": "ipython3",
   "version": "3.10.4"
  },
  "orig_nbformat": 4,
  "vscode": {
   "interpreter": {
    "hash": "485f7272c7528e7f3c204fcda0a79eeb60cbc584ad68f3b2c5bcc4d0134041b1"
   }
  }
 },
 "nbformat": 4,
 "nbformat_minor": 2
}
