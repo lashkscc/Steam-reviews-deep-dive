{
 "cells": [
  {
   "cell_type": "markdown",
   "metadata": {},
   "source": [
    "# Steam reviews deep dive\n",
    "\n",
    "This notebook will act as a live document as I use it to source, clean and analyze a dataset sourced from Steam. The notebook will overall be split into two sections:\n",
    "* Getting the database\n",
    "* Analyzing the database\n",
    "\n",
    "Once the database is formed, it will most likely be huge. Instead of storing it on github, I will upload it to kaggle, at which point I will load said database for the sections afterwards. \n",
    "\n"
   ]
  },
  {
   "cell_type": "markdown",
   "metadata": {},
   "source": [
    "## Steam Reviews Get!\n"
   ]
  },
  {
   "cell_type": "markdown",
   "metadata": {},
   "source": [
    "#### Objectives\n",
    "* Source a dataset of all English reviews on steam!\n",
    "    * Access publicly available api calls for store.steampowered\n",
    "    * end with a dataframe for which a row will hold the app title/id, review author details, and review details\n",
    "* Write and save dataset to Kaggle for convenience\n",
    "* Thoroughly document process to help learn and also later reference as a tutorial\n",
    "\n",
    "#### Concerns\n",
    "* Avoiding DOS\n",
    "    * I'm making an obscene number of requests from Valve what happens if I request too much?\n",
    "    * Can I limit the amount of requests I make and request in a piecemeal fashion?\n",
    "        * From research, it looks like steam limits the amount of requests allowed to 100,000 per calendar day. \n",
    "        * Approach two different ways: sleep an amount every request to ensure I don't go over (865ms per request) or count requests via a global variable and sleep on 100,000\n",
    "        "
   ]
  },
  {
   "cell_type": "code",
   "execution_count": 2,
   "metadata": {},
   "outputs": [],
   "source": [
    "import pandas as pd\n",
    "import numpy as np\n",
    "import requests\n",
    "import time"
   ]
  },
  {
   "cell_type": "code",
   "execution_count": 51,
   "metadata": {},
   "outputs": [],
   "source": [
    "\n",
    "\n",
    "URL= \"https://store.steampowered.com/appreviews/317710?json=1\"\n",
    "cursor = '*'\n",
    "PARAMS = {\n",
    "    'filter':'updated',\n",
    "    'language':'english',\n",
    "    'cursor': cursor,\n",
    "    'purchase_type':'all',\n",
    "    'num_per_page' : 1,\n",
    "}\n",
    "\n",
    "1533420\n",
    "r = requests.get(URL, PARAMS)\n",
    "r=r.json()"
   ]
  },
  {
   "cell_type": "code",
   "execution_count": 52,
   "metadata": {},
   "outputs": [
    {
     "name": "stdout",
     "output_type": "stream",
     "text": [
      "{'success': 1, 'query_summary': {'num_reviews': 1, 'review_score': 8, 'review_score_desc': 'Very Positive', 'total_positive': 346, 'total_negative': 50, 'total_reviews': 396}, 'reviews': [{'recommendationid': '115975941', 'author': {'steamid': '76561198091142053', 'num_games_owned': 239, 'num_reviews': 2, 'playtime_forever': 6438, 'playtime_last_two_weeks': 9, 'playtime_at_review': 6428, 'last_played': 1655940748}, 'language': 'english', 'review': \"If you like anything you see of this, or you go and play the Demo version and like what you see, the whole game is exactly as shown. Fast paced, quick to get started (as in you die and can, within a second, start again), and all about memorizing the different segments of each level. Not a forgiving game, and if you have anger issues, be prepared to step back and breath. But really rewarding when you finally Beat it and get to level 9 and not just survive, but flourish.\\n\\nWarning, How the game plays it directly related to your frame rate. Even after the update stating that they fixed the issue, it's still sort of present. Make sure your Machine is capable of running this game well, else it will be more difficult than it needs to be (Or neigh impossible if bad enough).\\n\\nSeriously though,\\n10/10 Will Always Play Again=]\", 'timestamp_created': 1653459303, 'timestamp_updated': 1653459303, 'voted_up': True, 'votes_up': 0, 'votes_funny': 0, 'weighted_vote_score': 0, 'comment_count': 0, 'steam_purchase': True, 'received_for_free': False, 'written_during_early_access': False}], 'cursor': 'AoJ4pdf2/IADdfC0ugM='}\n",
      "396\n",
      "AoJ4pdf2/IADdfC0ugM=\n"
     ]
    }
   ],
   "source": [
    "print(r)\n",
    "\n",
    "print(r[\"query_summary\"]['total_reviews'])\n",
    "print(r[\"cursor\"])"
   ]
  },
  {
   "cell_type": "code",
   "execution_count": 94,
   "metadata": {},
   "outputs": [],
   "source": [
    "# print(r[\"reviews\"])\n",
    "df = pd.json_normalize(r[\"reviews\"])\n",
    "# df.head()"
   ]
  },
  {
   "cell_type": "code",
   "execution_count": 20,
   "metadata": {},
   "outputs": [],
   "source": [
    "def getAppReviews(app, step, pause): #get all reviews associated with an app given an appid, size to get reviews with, and a pause between each request (seconds)\n",
    "    URL = \"https://store.steampowered.com/appreviews/\" + str(app) +\"?json=1\"\n",
    "\n",
    "    tally=step\n",
    "    PARAMS = {\n",
    "        'language':'english',\n",
    "        'filter':'updated',\n",
    "        'purchase_type':'all',\n",
    "        'cursor': '*',  #initial value defined in steam's documentation\n",
    "        'num_per_page' : step,\n",
    "    }\n",
    "\n",
    "    r = requests.get(URL, PARAMS)\n",
    "    r=r.json()\n",
    "    nCursor = {'cursor' : r[\"cursor\"]}\n",
    "    PARAMS.update(nCursor)\n",
    "    total = r[\"query_summary\"]['total_reviews']\n",
    "    df = pd.json_normalize(r[\"reviews\"])\n",
    "    while tally < total:\n",
    "        time.sleep(pause)\n",
    "        r = requests.get(URL, PARAMS)\n",
    "        r=r.json()\n",
    "        df = pd.concat([df, (pd.json_normalize(r[\"reviews\"]))])\n",
    "        tally += step\n",
    "        nCursor = {'cursor' : r[\"cursor\"]}\n",
    "        PARAMS.update(nCursor)\n",
    "    return df\n",
    "    "
   ]
  },
  {
   "cell_type": "code",
   "execution_count": 70,
   "metadata": {},
   "outputs": [],
   "source": [
    "df = getAppReviews(317710, 51, 0.87)"
   ]
  },
  {
   "cell_type": "code",
   "execution_count": 65,
   "metadata": {},
   "outputs": [
    {
     "data": {
      "text/plain": [
       "(396, 20)"
      ]
     },
     "execution_count": 65,
     "metadata": {},
     "output_type": "execute_result"
    }
   ],
   "source": [
    "df.shape"
   ]
  },
  {
   "cell_type": "markdown",
   "metadata": {},
   "source": [
    "We now have a method to get reviews given a specific app. Next we get a list of all apps to call from.\n"
   ]
  },
  {
   "cell_type": "code",
   "execution_count": 18,
   "metadata": {},
   "outputs": [],
   "source": [
    "apps = requests.get(\"https://api.steampowered.com/ISteamApps/GetAppList/v2/\")\n",
    "apps=apps.json()\n",
    "df = pd.json_normalize(apps[\"applist\"][\"apps\"])\n",
    "df.head()\n",
    "dc=df.replace(r'^\\s*$', np.nan, regex=True)\n",
    "dc=dc.dropna()\n",
    "dc.shape\n",
    "dc.reset_index(drop=True, inplace=True)\n",
    "dc.head()\n",
    "apps = dc.sort_values(by=['appid']).reset_index()\n",
    "##write apps to csv file\n"
   ]
  },
  {
   "cell_type": "code",
   "execution_count": 27,
   "metadata": {},
   "outputs": [
    {
     "name": "stdout",
     "output_type": "stream",
     "text": [
      "(0, 0)\n",
      "(0, 0)\n",
      "(0, 0)\n",
      "(0, 0)\n",
      "(0, 0)\n",
      "(0, 0)\n",
      "(0, 0)\n"
     ]
    },
    {
     "ename": "KeyboardInterrupt",
     "evalue": "",
     "output_type": "error",
     "traceback": [
      "\u001b[1;31m---------------------------------------------------------------------------\u001b[0m",
      "\u001b[1;31mKeyboardInterrupt\u001b[0m                         Traceback (most recent call last)",
      "\u001b[1;32mc:\\Users\\lashk\\Desktop\\Py Projects\\Steam-reviews-deep-dive\\steamreviews.ipynb Cell 16'\u001b[0m in \u001b[0;36m<cell line: 3>\u001b[1;34m()\u001b[0m\n\u001b[0;32m      <a href='vscode-notebook-cell:/c%3A/Users/lashk/Desktop/Py%20Projects/Steam-reviews-deep-dive/steamreviews.ipynb#ch0000015?line=1'>2</a>\u001b[0m all_reviews \u001b[39m=\u001b[39m pd\u001b[39m.\u001b[39mDataFrame()\n\u001b[0;32m      <a href='vscode-notebook-cell:/c%3A/Users/lashk/Desktop/Py%20Projects/Steam-reviews-deep-dive/steamreviews.ipynb#ch0000015?line=2'>3</a>\u001b[0m \u001b[39mfor\u001b[39;00m \u001b[39mid\u001b[39m \u001b[39min\u001b[39;00m apps[\u001b[39m'\u001b[39m\u001b[39mappid\u001b[39m\u001b[39m'\u001b[39m]:\n\u001b[1;32m----> <a href='vscode-notebook-cell:/c%3A/Users/lashk/Desktop/Py%20Projects/Steam-reviews-deep-dive/steamreviews.ipynb#ch0000015?line=3'>4</a>\u001b[0m     current \u001b[39m=\u001b[39m getAppReviews(\u001b[39mid\u001b[39;49m, \u001b[39m51\u001b[39;49m, \u001b[39m0.87\u001b[39;49m)\n\u001b[0;32m      <a href='vscode-notebook-cell:/c%3A/Users/lashk/Desktop/Py%20Projects/Steam-reviews-deep-dive/steamreviews.ipynb#ch0000015?line=4'>5</a>\u001b[0m     \u001b[39mif\u001b[39;00m \u001b[39mnot\u001b[39;00m current\u001b[39m.\u001b[39mempty:\n\u001b[0;32m      <a href='vscode-notebook-cell:/c%3A/Users/lashk/Desktop/Py%20Projects/Steam-reviews-deep-dive/steamreviews.ipynb#ch0000015?line=5'>6</a>\u001b[0m         current\u001b[39m.\u001b[39minsert(\u001b[39m0\u001b[39m,\u001b[39m'\u001b[39m\u001b[39mappid\u001b[39m\u001b[39m'\u001b[39m,\u001b[39mid\u001b[39m) \u001b[39m#add column of appid to df\u001b[39;00m\n",
      "\u001b[1;32mc:\\Users\\lashk\\Desktop\\Py Projects\\Steam-reviews-deep-dive\\steamreviews.ipynb Cell 8'\u001b[0m in \u001b[0;36mgetAppReviews\u001b[1;34m(app, step, pause)\u001b[0m\n\u001b[0;32m      <a href='vscode-notebook-cell:/c%3A/Users/lashk/Desktop/Py%20Projects/Steam-reviews-deep-dive/steamreviews.ipynb#ch0000007?line=3'>4</a>\u001b[0m tally\u001b[39m=\u001b[39mstep\n\u001b[0;32m      <a href='vscode-notebook-cell:/c%3A/Users/lashk/Desktop/Py%20Projects/Steam-reviews-deep-dive/steamreviews.ipynb#ch0000007?line=4'>5</a>\u001b[0m PARAMS \u001b[39m=\u001b[39m {\n\u001b[0;32m      <a href='vscode-notebook-cell:/c%3A/Users/lashk/Desktop/Py%20Projects/Steam-reviews-deep-dive/steamreviews.ipynb#ch0000007?line=5'>6</a>\u001b[0m     \u001b[39m'\u001b[39m\u001b[39mlanguage\u001b[39m\u001b[39m'\u001b[39m:\u001b[39m'\u001b[39m\u001b[39menglish\u001b[39m\u001b[39m'\u001b[39m,\n\u001b[0;32m      <a href='vscode-notebook-cell:/c%3A/Users/lashk/Desktop/Py%20Projects/Steam-reviews-deep-dive/steamreviews.ipynb#ch0000007?line=6'>7</a>\u001b[0m     \u001b[39m'\u001b[39m\u001b[39mfilter\u001b[39m\u001b[39m'\u001b[39m:\u001b[39m'\u001b[39m\u001b[39mupdated\u001b[39m\u001b[39m'\u001b[39m,\n\u001b[1;32m   (...)\u001b[0m\n\u001b[0;32m     <a href='vscode-notebook-cell:/c%3A/Users/lashk/Desktop/Py%20Projects/Steam-reviews-deep-dive/steamreviews.ipynb#ch0000007?line=9'>10</a>\u001b[0m     \u001b[39m'\u001b[39m\u001b[39mnum_per_page\u001b[39m\u001b[39m'\u001b[39m : step,\n\u001b[0;32m     <a href='vscode-notebook-cell:/c%3A/Users/lashk/Desktop/Py%20Projects/Steam-reviews-deep-dive/steamreviews.ipynb#ch0000007?line=10'>11</a>\u001b[0m }\n\u001b[1;32m---> <a href='vscode-notebook-cell:/c%3A/Users/lashk/Desktop/Py%20Projects/Steam-reviews-deep-dive/steamreviews.ipynb#ch0000007?line=12'>13</a>\u001b[0m r \u001b[39m=\u001b[39m requests\u001b[39m.\u001b[39;49mget(URL, PARAMS)\n\u001b[0;32m     <a href='vscode-notebook-cell:/c%3A/Users/lashk/Desktop/Py%20Projects/Steam-reviews-deep-dive/steamreviews.ipynb#ch0000007?line=13'>14</a>\u001b[0m r\u001b[39m=\u001b[39mr\u001b[39m.\u001b[39mjson()\n\u001b[0;32m     <a href='vscode-notebook-cell:/c%3A/Users/lashk/Desktop/Py%20Projects/Steam-reviews-deep-dive/steamreviews.ipynb#ch0000007?line=14'>15</a>\u001b[0m nCursor \u001b[39m=\u001b[39m {\u001b[39m'\u001b[39m\u001b[39mcursor\u001b[39m\u001b[39m'\u001b[39m : r[\u001b[39m\"\u001b[39m\u001b[39mcursor\u001b[39m\u001b[39m\"\u001b[39m]}\n",
      "File \u001b[1;32mc:\\Users\\lashk\\AppData\\Local\\Programs\\Python\\Python39\\lib\\site-packages\\requests\\api.py:76\u001b[0m, in \u001b[0;36mget\u001b[1;34m(url, params, **kwargs)\u001b[0m\n\u001b[0;32m     <a href='file:///c%3A/Users/lashk/AppData/Local/Programs/Python/Python39/lib/site-packages/requests/api.py?line=64'>65</a>\u001b[0m \u001b[39mr\u001b[39m\u001b[39m\"\"\"Sends a GET request.\u001b[39;00m\n\u001b[0;32m     <a href='file:///c%3A/Users/lashk/AppData/Local/Programs/Python/Python39/lib/site-packages/requests/api.py?line=65'>66</a>\u001b[0m \n\u001b[0;32m     <a href='file:///c%3A/Users/lashk/AppData/Local/Programs/Python/Python39/lib/site-packages/requests/api.py?line=66'>67</a>\u001b[0m \u001b[39m:param url: URL for the new :class:`Request` object.\u001b[39;00m\n\u001b[1;32m   (...)\u001b[0m\n\u001b[0;32m     <a href='file:///c%3A/Users/lashk/AppData/Local/Programs/Python/Python39/lib/site-packages/requests/api.py?line=71'>72</a>\u001b[0m \u001b[39m:rtype: requests.Response\u001b[39;00m\n\u001b[0;32m     <a href='file:///c%3A/Users/lashk/AppData/Local/Programs/Python/Python39/lib/site-packages/requests/api.py?line=72'>73</a>\u001b[0m \u001b[39m\"\"\"\u001b[39;00m\n\u001b[0;32m     <a href='file:///c%3A/Users/lashk/AppData/Local/Programs/Python/Python39/lib/site-packages/requests/api.py?line=74'>75</a>\u001b[0m kwargs\u001b[39m.\u001b[39msetdefault(\u001b[39m'\u001b[39m\u001b[39mallow_redirects\u001b[39m\u001b[39m'\u001b[39m, \u001b[39mTrue\u001b[39;00m)\n\u001b[1;32m---> <a href='file:///c%3A/Users/lashk/AppData/Local/Programs/Python/Python39/lib/site-packages/requests/api.py?line=75'>76</a>\u001b[0m \u001b[39mreturn\u001b[39;00m request(\u001b[39m'\u001b[39m\u001b[39mget\u001b[39m\u001b[39m'\u001b[39m, url, params\u001b[39m=\u001b[39mparams, \u001b[39m*\u001b[39m\u001b[39m*\u001b[39mkwargs)\n",
      "File \u001b[1;32mc:\\Users\\lashk\\AppData\\Local\\Programs\\Python\\Python39\\lib\\site-packages\\requests\\api.py:61\u001b[0m, in \u001b[0;36mrequest\u001b[1;34m(method, url, **kwargs)\u001b[0m\n\u001b[0;32m     <a href='file:///c%3A/Users/lashk/AppData/Local/Programs/Python/Python39/lib/site-packages/requests/api.py?line=56'>57</a>\u001b[0m \u001b[39m# By using the 'with' statement we are sure the session is closed, thus we\u001b[39;00m\n\u001b[0;32m     <a href='file:///c%3A/Users/lashk/AppData/Local/Programs/Python/Python39/lib/site-packages/requests/api.py?line=57'>58</a>\u001b[0m \u001b[39m# avoid leaving sockets open which can trigger a ResourceWarning in some\u001b[39;00m\n\u001b[0;32m     <a href='file:///c%3A/Users/lashk/AppData/Local/Programs/Python/Python39/lib/site-packages/requests/api.py?line=58'>59</a>\u001b[0m \u001b[39m# cases, and look like a memory leak in others.\u001b[39;00m\n\u001b[0;32m     <a href='file:///c%3A/Users/lashk/AppData/Local/Programs/Python/Python39/lib/site-packages/requests/api.py?line=59'>60</a>\u001b[0m \u001b[39mwith\u001b[39;00m sessions\u001b[39m.\u001b[39mSession() \u001b[39mas\u001b[39;00m session:\n\u001b[1;32m---> <a href='file:///c%3A/Users/lashk/AppData/Local/Programs/Python/Python39/lib/site-packages/requests/api.py?line=60'>61</a>\u001b[0m     \u001b[39mreturn\u001b[39;00m session\u001b[39m.\u001b[39mrequest(method\u001b[39m=\u001b[39mmethod, url\u001b[39m=\u001b[39murl, \u001b[39m*\u001b[39m\u001b[39m*\u001b[39mkwargs)\n",
      "File \u001b[1;32mc:\\Users\\lashk\\AppData\\Local\\Programs\\Python\\Python39\\lib\\site-packages\\requests\\sessions.py:542\u001b[0m, in \u001b[0;36mSession.request\u001b[1;34m(self, method, url, params, data, headers, cookies, files, auth, timeout, allow_redirects, proxies, hooks, stream, verify, cert, json)\u001b[0m\n\u001b[0;32m    <a href='file:///c%3A/Users/lashk/AppData/Local/Programs/Python/Python39/lib/site-packages/requests/sessions.py?line=536'>537</a>\u001b[0m send_kwargs \u001b[39m=\u001b[39m {\n\u001b[0;32m    <a href='file:///c%3A/Users/lashk/AppData/Local/Programs/Python/Python39/lib/site-packages/requests/sessions.py?line=537'>538</a>\u001b[0m     \u001b[39m'\u001b[39m\u001b[39mtimeout\u001b[39m\u001b[39m'\u001b[39m: timeout,\n\u001b[0;32m    <a href='file:///c%3A/Users/lashk/AppData/Local/Programs/Python/Python39/lib/site-packages/requests/sessions.py?line=538'>539</a>\u001b[0m     \u001b[39m'\u001b[39m\u001b[39mallow_redirects\u001b[39m\u001b[39m'\u001b[39m: allow_redirects,\n\u001b[0;32m    <a href='file:///c%3A/Users/lashk/AppData/Local/Programs/Python/Python39/lib/site-packages/requests/sessions.py?line=539'>540</a>\u001b[0m }\n\u001b[0;32m    <a href='file:///c%3A/Users/lashk/AppData/Local/Programs/Python/Python39/lib/site-packages/requests/sessions.py?line=540'>541</a>\u001b[0m send_kwargs\u001b[39m.\u001b[39mupdate(settings)\n\u001b[1;32m--> <a href='file:///c%3A/Users/lashk/AppData/Local/Programs/Python/Python39/lib/site-packages/requests/sessions.py?line=541'>542</a>\u001b[0m resp \u001b[39m=\u001b[39m \u001b[39mself\u001b[39m\u001b[39m.\u001b[39msend(prep, \u001b[39m*\u001b[39m\u001b[39m*\u001b[39msend_kwargs)\n\u001b[0;32m    <a href='file:///c%3A/Users/lashk/AppData/Local/Programs/Python/Python39/lib/site-packages/requests/sessions.py?line=543'>544</a>\u001b[0m \u001b[39mreturn\u001b[39;00m resp\n",
      "File \u001b[1;32mc:\\Users\\lashk\\AppData\\Local\\Programs\\Python\\Python39\\lib\\site-packages\\requests\\sessions.py:655\u001b[0m, in \u001b[0;36mSession.send\u001b[1;34m(self, request, **kwargs)\u001b[0m\n\u001b[0;32m    <a href='file:///c%3A/Users/lashk/AppData/Local/Programs/Python/Python39/lib/site-packages/requests/sessions.py?line=651'>652</a>\u001b[0m start \u001b[39m=\u001b[39m preferred_clock()\n\u001b[0;32m    <a href='file:///c%3A/Users/lashk/AppData/Local/Programs/Python/Python39/lib/site-packages/requests/sessions.py?line=653'>654</a>\u001b[0m \u001b[39m# Send the request\u001b[39;00m\n\u001b[1;32m--> <a href='file:///c%3A/Users/lashk/AppData/Local/Programs/Python/Python39/lib/site-packages/requests/sessions.py?line=654'>655</a>\u001b[0m r \u001b[39m=\u001b[39m adapter\u001b[39m.\u001b[39msend(request, \u001b[39m*\u001b[39m\u001b[39m*\u001b[39mkwargs)\n\u001b[0;32m    <a href='file:///c%3A/Users/lashk/AppData/Local/Programs/Python/Python39/lib/site-packages/requests/sessions.py?line=656'>657</a>\u001b[0m \u001b[39m# Total elapsed time of the request (approximately)\u001b[39;00m\n\u001b[0;32m    <a href='file:///c%3A/Users/lashk/AppData/Local/Programs/Python/Python39/lib/site-packages/requests/sessions.py?line=657'>658</a>\u001b[0m elapsed \u001b[39m=\u001b[39m preferred_clock() \u001b[39m-\u001b[39m start\n",
      "File \u001b[1;32mc:\\Users\\lashk\\AppData\\Local\\Programs\\Python\\Python39\\lib\\site-packages\\requests\\adapters.py:439\u001b[0m, in \u001b[0;36mHTTPAdapter.send\u001b[1;34m(self, request, stream, timeout, verify, cert, proxies)\u001b[0m\n\u001b[0;32m    <a href='file:///c%3A/Users/lashk/AppData/Local/Programs/Python/Python39/lib/site-packages/requests/adapters.py?line=436'>437</a>\u001b[0m \u001b[39mtry\u001b[39;00m:\n\u001b[0;32m    <a href='file:///c%3A/Users/lashk/AppData/Local/Programs/Python/Python39/lib/site-packages/requests/adapters.py?line=437'>438</a>\u001b[0m     \u001b[39mif\u001b[39;00m \u001b[39mnot\u001b[39;00m chunked:\n\u001b[1;32m--> <a href='file:///c%3A/Users/lashk/AppData/Local/Programs/Python/Python39/lib/site-packages/requests/adapters.py?line=438'>439</a>\u001b[0m         resp \u001b[39m=\u001b[39m conn\u001b[39m.\u001b[39;49murlopen(\n\u001b[0;32m    <a href='file:///c%3A/Users/lashk/AppData/Local/Programs/Python/Python39/lib/site-packages/requests/adapters.py?line=439'>440</a>\u001b[0m             method\u001b[39m=\u001b[39;49mrequest\u001b[39m.\u001b[39;49mmethod,\n\u001b[0;32m    <a href='file:///c%3A/Users/lashk/AppData/Local/Programs/Python/Python39/lib/site-packages/requests/adapters.py?line=440'>441</a>\u001b[0m             url\u001b[39m=\u001b[39;49murl,\n\u001b[0;32m    <a href='file:///c%3A/Users/lashk/AppData/Local/Programs/Python/Python39/lib/site-packages/requests/adapters.py?line=441'>442</a>\u001b[0m             body\u001b[39m=\u001b[39;49mrequest\u001b[39m.\u001b[39;49mbody,\n\u001b[0;32m    <a href='file:///c%3A/Users/lashk/AppData/Local/Programs/Python/Python39/lib/site-packages/requests/adapters.py?line=442'>443</a>\u001b[0m             headers\u001b[39m=\u001b[39;49mrequest\u001b[39m.\u001b[39;49mheaders,\n\u001b[0;32m    <a href='file:///c%3A/Users/lashk/AppData/Local/Programs/Python/Python39/lib/site-packages/requests/adapters.py?line=443'>444</a>\u001b[0m             redirect\u001b[39m=\u001b[39;49m\u001b[39mFalse\u001b[39;49;00m,\n\u001b[0;32m    <a href='file:///c%3A/Users/lashk/AppData/Local/Programs/Python/Python39/lib/site-packages/requests/adapters.py?line=444'>445</a>\u001b[0m             assert_same_host\u001b[39m=\u001b[39;49m\u001b[39mFalse\u001b[39;49;00m,\n\u001b[0;32m    <a href='file:///c%3A/Users/lashk/AppData/Local/Programs/Python/Python39/lib/site-packages/requests/adapters.py?line=445'>446</a>\u001b[0m             preload_content\u001b[39m=\u001b[39;49m\u001b[39mFalse\u001b[39;49;00m,\n\u001b[0;32m    <a href='file:///c%3A/Users/lashk/AppData/Local/Programs/Python/Python39/lib/site-packages/requests/adapters.py?line=446'>447</a>\u001b[0m             decode_content\u001b[39m=\u001b[39;49m\u001b[39mFalse\u001b[39;49;00m,\n\u001b[0;32m    <a href='file:///c%3A/Users/lashk/AppData/Local/Programs/Python/Python39/lib/site-packages/requests/adapters.py?line=447'>448</a>\u001b[0m             retries\u001b[39m=\u001b[39;49m\u001b[39mself\u001b[39;49m\u001b[39m.\u001b[39;49mmax_retries,\n\u001b[0;32m    <a href='file:///c%3A/Users/lashk/AppData/Local/Programs/Python/Python39/lib/site-packages/requests/adapters.py?line=448'>449</a>\u001b[0m             timeout\u001b[39m=\u001b[39;49mtimeout\n\u001b[0;32m    <a href='file:///c%3A/Users/lashk/AppData/Local/Programs/Python/Python39/lib/site-packages/requests/adapters.py?line=449'>450</a>\u001b[0m         )\n\u001b[0;32m    <a href='file:///c%3A/Users/lashk/AppData/Local/Programs/Python/Python39/lib/site-packages/requests/adapters.py?line=451'>452</a>\u001b[0m     \u001b[39m# Send the request.\u001b[39;00m\n\u001b[0;32m    <a href='file:///c%3A/Users/lashk/AppData/Local/Programs/Python/Python39/lib/site-packages/requests/adapters.py?line=452'>453</a>\u001b[0m     \u001b[39melse\u001b[39;00m:\n\u001b[0;32m    <a href='file:///c%3A/Users/lashk/AppData/Local/Programs/Python/Python39/lib/site-packages/requests/adapters.py?line=453'>454</a>\u001b[0m         \u001b[39mif\u001b[39;00m \u001b[39mhasattr\u001b[39m(conn, \u001b[39m'\u001b[39m\u001b[39mproxy_pool\u001b[39m\u001b[39m'\u001b[39m):\n",
      "File \u001b[1;32mc:\\Users\\lashk\\AppData\\Local\\Programs\\Python\\Python39\\lib\\site-packages\\urllib3\\connectionpool.py:699\u001b[0m, in \u001b[0;36mHTTPConnectionPool.urlopen\u001b[1;34m(self, method, url, body, headers, retries, redirect, assert_same_host, timeout, pool_timeout, release_conn, chunked, body_pos, **response_kw)\u001b[0m\n\u001b[0;32m    <a href='file:///c%3A/Users/lashk/AppData/Local/Programs/Python/Python39/lib/site-packages/urllib3/connectionpool.py?line=695'>696</a>\u001b[0m     \u001b[39mself\u001b[39m\u001b[39m.\u001b[39m_prepare_proxy(conn)\n\u001b[0;32m    <a href='file:///c%3A/Users/lashk/AppData/Local/Programs/Python/Python39/lib/site-packages/urllib3/connectionpool.py?line=697'>698</a>\u001b[0m \u001b[39m# Make the request on the httplib connection object.\u001b[39;00m\n\u001b[1;32m--> <a href='file:///c%3A/Users/lashk/AppData/Local/Programs/Python/Python39/lib/site-packages/urllib3/connectionpool.py?line=698'>699</a>\u001b[0m httplib_response \u001b[39m=\u001b[39m \u001b[39mself\u001b[39;49m\u001b[39m.\u001b[39;49m_make_request(\n\u001b[0;32m    <a href='file:///c%3A/Users/lashk/AppData/Local/Programs/Python/Python39/lib/site-packages/urllib3/connectionpool.py?line=699'>700</a>\u001b[0m     conn,\n\u001b[0;32m    <a href='file:///c%3A/Users/lashk/AppData/Local/Programs/Python/Python39/lib/site-packages/urllib3/connectionpool.py?line=700'>701</a>\u001b[0m     method,\n\u001b[0;32m    <a href='file:///c%3A/Users/lashk/AppData/Local/Programs/Python/Python39/lib/site-packages/urllib3/connectionpool.py?line=701'>702</a>\u001b[0m     url,\n\u001b[0;32m    <a href='file:///c%3A/Users/lashk/AppData/Local/Programs/Python/Python39/lib/site-packages/urllib3/connectionpool.py?line=702'>703</a>\u001b[0m     timeout\u001b[39m=\u001b[39;49mtimeout_obj,\n\u001b[0;32m    <a href='file:///c%3A/Users/lashk/AppData/Local/Programs/Python/Python39/lib/site-packages/urllib3/connectionpool.py?line=703'>704</a>\u001b[0m     body\u001b[39m=\u001b[39;49mbody,\n\u001b[0;32m    <a href='file:///c%3A/Users/lashk/AppData/Local/Programs/Python/Python39/lib/site-packages/urllib3/connectionpool.py?line=704'>705</a>\u001b[0m     headers\u001b[39m=\u001b[39;49mheaders,\n\u001b[0;32m    <a href='file:///c%3A/Users/lashk/AppData/Local/Programs/Python/Python39/lib/site-packages/urllib3/connectionpool.py?line=705'>706</a>\u001b[0m     chunked\u001b[39m=\u001b[39;49mchunked,\n\u001b[0;32m    <a href='file:///c%3A/Users/lashk/AppData/Local/Programs/Python/Python39/lib/site-packages/urllib3/connectionpool.py?line=706'>707</a>\u001b[0m )\n\u001b[0;32m    <a href='file:///c%3A/Users/lashk/AppData/Local/Programs/Python/Python39/lib/site-packages/urllib3/connectionpool.py?line=708'>709</a>\u001b[0m \u001b[39m# If we're going to release the connection in ``finally:``, then\u001b[39;00m\n\u001b[0;32m    <a href='file:///c%3A/Users/lashk/AppData/Local/Programs/Python/Python39/lib/site-packages/urllib3/connectionpool.py?line=709'>710</a>\u001b[0m \u001b[39m# the response doesn't need to know about the connection. Otherwise\u001b[39;00m\n\u001b[0;32m    <a href='file:///c%3A/Users/lashk/AppData/Local/Programs/Python/Python39/lib/site-packages/urllib3/connectionpool.py?line=710'>711</a>\u001b[0m \u001b[39m# it will also try to release it and we'll have a double-release\u001b[39;00m\n\u001b[0;32m    <a href='file:///c%3A/Users/lashk/AppData/Local/Programs/Python/Python39/lib/site-packages/urllib3/connectionpool.py?line=711'>712</a>\u001b[0m \u001b[39m# mess.\u001b[39;00m\n\u001b[0;32m    <a href='file:///c%3A/Users/lashk/AppData/Local/Programs/Python/Python39/lib/site-packages/urllib3/connectionpool.py?line=712'>713</a>\u001b[0m response_conn \u001b[39m=\u001b[39m conn \u001b[39mif\u001b[39;00m \u001b[39mnot\u001b[39;00m release_conn \u001b[39melse\u001b[39;00m \u001b[39mNone\u001b[39;00m\n",
      "File \u001b[1;32mc:\\Users\\lashk\\AppData\\Local\\Programs\\Python\\Python39\\lib\\site-packages\\urllib3\\connectionpool.py:445\u001b[0m, in \u001b[0;36mHTTPConnectionPool._make_request\u001b[1;34m(self, conn, method, url, timeout, chunked, **httplib_request_kw)\u001b[0m\n\u001b[0;32m    <a href='file:///c%3A/Users/lashk/AppData/Local/Programs/Python/Python39/lib/site-packages/urllib3/connectionpool.py?line=439'>440</a>\u001b[0m             httplib_response \u001b[39m=\u001b[39m conn\u001b[39m.\u001b[39mgetresponse()\n\u001b[0;32m    <a href='file:///c%3A/Users/lashk/AppData/Local/Programs/Python/Python39/lib/site-packages/urllib3/connectionpool.py?line=440'>441</a>\u001b[0m         \u001b[39mexcept\u001b[39;00m \u001b[39mBaseException\u001b[39;00m \u001b[39mas\u001b[39;00m e:\n\u001b[0;32m    <a href='file:///c%3A/Users/lashk/AppData/Local/Programs/Python/Python39/lib/site-packages/urllib3/connectionpool.py?line=441'>442</a>\u001b[0m             \u001b[39m# Remove the TypeError from the exception chain in\u001b[39;00m\n\u001b[0;32m    <a href='file:///c%3A/Users/lashk/AppData/Local/Programs/Python/Python39/lib/site-packages/urllib3/connectionpool.py?line=442'>443</a>\u001b[0m             \u001b[39m# Python 3 (including for exceptions like SystemExit).\u001b[39;00m\n\u001b[0;32m    <a href='file:///c%3A/Users/lashk/AppData/Local/Programs/Python/Python39/lib/site-packages/urllib3/connectionpool.py?line=443'>444</a>\u001b[0m             \u001b[39m# Otherwise it looks like a bug in the code.\u001b[39;00m\n\u001b[1;32m--> <a href='file:///c%3A/Users/lashk/AppData/Local/Programs/Python/Python39/lib/site-packages/urllib3/connectionpool.py?line=444'>445</a>\u001b[0m             six\u001b[39m.\u001b[39;49mraise_from(e, \u001b[39mNone\u001b[39;49;00m)\n\u001b[0;32m    <a href='file:///c%3A/Users/lashk/AppData/Local/Programs/Python/Python39/lib/site-packages/urllib3/connectionpool.py?line=445'>446</a>\u001b[0m \u001b[39mexcept\u001b[39;00m (SocketTimeout, BaseSSLError, SocketError) \u001b[39mas\u001b[39;00m e:\n\u001b[0;32m    <a href='file:///c%3A/Users/lashk/AppData/Local/Programs/Python/Python39/lib/site-packages/urllib3/connectionpool.py?line=446'>447</a>\u001b[0m     \u001b[39mself\u001b[39m\u001b[39m.\u001b[39m_raise_timeout(err\u001b[39m=\u001b[39me, url\u001b[39m=\u001b[39murl, timeout_value\u001b[39m=\u001b[39mread_timeout)\n",
      "File \u001b[1;32m<string>:3\u001b[0m, in \u001b[0;36mraise_from\u001b[1;34m(value, from_value)\u001b[0m\n",
      "File \u001b[1;32mc:\\Users\\lashk\\AppData\\Local\\Programs\\Python\\Python39\\lib\\site-packages\\urllib3\\connectionpool.py:440\u001b[0m, in \u001b[0;36mHTTPConnectionPool._make_request\u001b[1;34m(self, conn, method, url, timeout, chunked, **httplib_request_kw)\u001b[0m\n\u001b[0;32m    <a href='file:///c%3A/Users/lashk/AppData/Local/Programs/Python/Python39/lib/site-packages/urllib3/connectionpool.py?line=436'>437</a>\u001b[0m \u001b[39mexcept\u001b[39;00m \u001b[39mTypeError\u001b[39;00m:\n\u001b[0;32m    <a href='file:///c%3A/Users/lashk/AppData/Local/Programs/Python/Python39/lib/site-packages/urllib3/connectionpool.py?line=437'>438</a>\u001b[0m     \u001b[39m# Python 3\u001b[39;00m\n\u001b[0;32m    <a href='file:///c%3A/Users/lashk/AppData/Local/Programs/Python/Python39/lib/site-packages/urllib3/connectionpool.py?line=438'>439</a>\u001b[0m     \u001b[39mtry\u001b[39;00m:\n\u001b[1;32m--> <a href='file:///c%3A/Users/lashk/AppData/Local/Programs/Python/Python39/lib/site-packages/urllib3/connectionpool.py?line=439'>440</a>\u001b[0m         httplib_response \u001b[39m=\u001b[39m conn\u001b[39m.\u001b[39;49mgetresponse()\n\u001b[0;32m    <a href='file:///c%3A/Users/lashk/AppData/Local/Programs/Python/Python39/lib/site-packages/urllib3/connectionpool.py?line=440'>441</a>\u001b[0m     \u001b[39mexcept\u001b[39;00m \u001b[39mBaseException\u001b[39;00m \u001b[39mas\u001b[39;00m e:\n\u001b[0;32m    <a href='file:///c%3A/Users/lashk/AppData/Local/Programs/Python/Python39/lib/site-packages/urllib3/connectionpool.py?line=441'>442</a>\u001b[0m         \u001b[39m# Remove the TypeError from the exception chain in\u001b[39;00m\n\u001b[0;32m    <a href='file:///c%3A/Users/lashk/AppData/Local/Programs/Python/Python39/lib/site-packages/urllib3/connectionpool.py?line=442'>443</a>\u001b[0m         \u001b[39m# Python 3 (including for exceptions like SystemExit).\u001b[39;00m\n\u001b[0;32m    <a href='file:///c%3A/Users/lashk/AppData/Local/Programs/Python/Python39/lib/site-packages/urllib3/connectionpool.py?line=443'>444</a>\u001b[0m         \u001b[39m# Otherwise it looks like a bug in the code.\u001b[39;00m\n\u001b[0;32m    <a href='file:///c%3A/Users/lashk/AppData/Local/Programs/Python/Python39/lib/site-packages/urllib3/connectionpool.py?line=444'>445</a>\u001b[0m         six\u001b[39m.\u001b[39mraise_from(e, \u001b[39mNone\u001b[39;00m)\n",
      "File \u001b[1;32mc:\\Users\\lashk\\AppData\\Local\\Programs\\Python\\Python39\\lib\\http\\client.py:1345\u001b[0m, in \u001b[0;36mHTTPConnection.getresponse\u001b[1;34m(self)\u001b[0m\n\u001b[0;32m   <a href='file:///c%3A/Users/lashk/AppData/Local/Programs/Python/Python39/lib/http/client.py?line=1342'>1343</a>\u001b[0m \u001b[39mtry\u001b[39;00m:\n\u001b[0;32m   <a href='file:///c%3A/Users/lashk/AppData/Local/Programs/Python/Python39/lib/http/client.py?line=1343'>1344</a>\u001b[0m     \u001b[39mtry\u001b[39;00m:\n\u001b[1;32m-> <a href='file:///c%3A/Users/lashk/AppData/Local/Programs/Python/Python39/lib/http/client.py?line=1344'>1345</a>\u001b[0m         response\u001b[39m.\u001b[39;49mbegin()\n\u001b[0;32m   <a href='file:///c%3A/Users/lashk/AppData/Local/Programs/Python/Python39/lib/http/client.py?line=1345'>1346</a>\u001b[0m     \u001b[39mexcept\u001b[39;00m \u001b[39mConnectionError\u001b[39;00m:\n\u001b[0;32m   <a href='file:///c%3A/Users/lashk/AppData/Local/Programs/Python/Python39/lib/http/client.py?line=1346'>1347</a>\u001b[0m         \u001b[39mself\u001b[39m\u001b[39m.\u001b[39mclose()\n",
      "File \u001b[1;32mc:\\Users\\lashk\\AppData\\Local\\Programs\\Python\\Python39\\lib\\http\\client.py:307\u001b[0m, in \u001b[0;36mHTTPResponse.begin\u001b[1;34m(self)\u001b[0m\n\u001b[0;32m    <a href='file:///c%3A/Users/lashk/AppData/Local/Programs/Python/Python39/lib/http/client.py?line=304'>305</a>\u001b[0m \u001b[39m# read until we get a non-100 response\u001b[39;00m\n\u001b[0;32m    <a href='file:///c%3A/Users/lashk/AppData/Local/Programs/Python/Python39/lib/http/client.py?line=305'>306</a>\u001b[0m \u001b[39mwhile\u001b[39;00m \u001b[39mTrue\u001b[39;00m:\n\u001b[1;32m--> <a href='file:///c%3A/Users/lashk/AppData/Local/Programs/Python/Python39/lib/http/client.py?line=306'>307</a>\u001b[0m     version, status, reason \u001b[39m=\u001b[39m \u001b[39mself\u001b[39;49m\u001b[39m.\u001b[39;49m_read_status()\n\u001b[0;32m    <a href='file:///c%3A/Users/lashk/AppData/Local/Programs/Python/Python39/lib/http/client.py?line=307'>308</a>\u001b[0m     \u001b[39mif\u001b[39;00m status \u001b[39m!=\u001b[39m CONTINUE:\n\u001b[0;32m    <a href='file:///c%3A/Users/lashk/AppData/Local/Programs/Python/Python39/lib/http/client.py?line=308'>309</a>\u001b[0m         \u001b[39mbreak\u001b[39;00m\n",
      "File \u001b[1;32mc:\\Users\\lashk\\AppData\\Local\\Programs\\Python\\Python39\\lib\\http\\client.py:268\u001b[0m, in \u001b[0;36mHTTPResponse._read_status\u001b[1;34m(self)\u001b[0m\n\u001b[0;32m    <a href='file:///c%3A/Users/lashk/AppData/Local/Programs/Python/Python39/lib/http/client.py?line=266'>267</a>\u001b[0m \u001b[39mdef\u001b[39;00m \u001b[39m_read_status\u001b[39m(\u001b[39mself\u001b[39m):\n\u001b[1;32m--> <a href='file:///c%3A/Users/lashk/AppData/Local/Programs/Python/Python39/lib/http/client.py?line=267'>268</a>\u001b[0m     line \u001b[39m=\u001b[39m \u001b[39mstr\u001b[39m(\u001b[39mself\u001b[39;49m\u001b[39m.\u001b[39;49mfp\u001b[39m.\u001b[39;49mreadline(_MAXLINE \u001b[39m+\u001b[39;49m \u001b[39m1\u001b[39;49m), \u001b[39m\"\u001b[39m\u001b[39miso-8859-1\u001b[39m\u001b[39m\"\u001b[39m)\n\u001b[0;32m    <a href='file:///c%3A/Users/lashk/AppData/Local/Programs/Python/Python39/lib/http/client.py?line=268'>269</a>\u001b[0m     \u001b[39mif\u001b[39;00m \u001b[39mlen\u001b[39m(line) \u001b[39m>\u001b[39m _MAXLINE:\n\u001b[0;32m    <a href='file:///c%3A/Users/lashk/AppData/Local/Programs/Python/Python39/lib/http/client.py?line=269'>270</a>\u001b[0m         \u001b[39mraise\u001b[39;00m LineTooLong(\u001b[39m\"\u001b[39m\u001b[39mstatus line\u001b[39m\u001b[39m\"\u001b[39m)\n",
      "File \u001b[1;32mc:\\Users\\lashk\\AppData\\Local\\Programs\\Python\\Python39\\lib\\socket.py:704\u001b[0m, in \u001b[0;36mSocketIO.readinto\u001b[1;34m(self, b)\u001b[0m\n\u001b[0;32m    <a href='file:///c%3A/Users/lashk/AppData/Local/Programs/Python/Python39/lib/socket.py?line=701'>702</a>\u001b[0m \u001b[39mwhile\u001b[39;00m \u001b[39mTrue\u001b[39;00m:\n\u001b[0;32m    <a href='file:///c%3A/Users/lashk/AppData/Local/Programs/Python/Python39/lib/socket.py?line=702'>703</a>\u001b[0m     \u001b[39mtry\u001b[39;00m:\n\u001b[1;32m--> <a href='file:///c%3A/Users/lashk/AppData/Local/Programs/Python/Python39/lib/socket.py?line=703'>704</a>\u001b[0m         \u001b[39mreturn\u001b[39;00m \u001b[39mself\u001b[39;49m\u001b[39m.\u001b[39;49m_sock\u001b[39m.\u001b[39;49mrecv_into(b)\n\u001b[0;32m    <a href='file:///c%3A/Users/lashk/AppData/Local/Programs/Python/Python39/lib/socket.py?line=704'>705</a>\u001b[0m     \u001b[39mexcept\u001b[39;00m timeout:\n\u001b[0;32m    <a href='file:///c%3A/Users/lashk/AppData/Local/Programs/Python/Python39/lib/socket.py?line=705'>706</a>\u001b[0m         \u001b[39mself\u001b[39m\u001b[39m.\u001b[39m_timeout_occurred \u001b[39m=\u001b[39m \u001b[39mTrue\u001b[39;00m\n",
      "File \u001b[1;32mc:\\Users\\lashk\\AppData\\Local\\Programs\\Python\\Python39\\lib\\ssl.py:1241\u001b[0m, in \u001b[0;36mSSLSocket.recv_into\u001b[1;34m(self, buffer, nbytes, flags)\u001b[0m\n\u001b[0;32m   <a href='file:///c%3A/Users/lashk/AppData/Local/Programs/Python/Python39/lib/ssl.py?line=1236'>1237</a>\u001b[0m     \u001b[39mif\u001b[39;00m flags \u001b[39m!=\u001b[39m \u001b[39m0\u001b[39m:\n\u001b[0;32m   <a href='file:///c%3A/Users/lashk/AppData/Local/Programs/Python/Python39/lib/ssl.py?line=1237'>1238</a>\u001b[0m         \u001b[39mraise\u001b[39;00m \u001b[39mValueError\u001b[39;00m(\n\u001b[0;32m   <a href='file:///c%3A/Users/lashk/AppData/Local/Programs/Python/Python39/lib/ssl.py?line=1238'>1239</a>\u001b[0m           \u001b[39m\"\u001b[39m\u001b[39mnon-zero flags not allowed in calls to recv_into() on \u001b[39m\u001b[39m%s\u001b[39;00m\u001b[39m\"\u001b[39m \u001b[39m%\u001b[39m\n\u001b[0;32m   <a href='file:///c%3A/Users/lashk/AppData/Local/Programs/Python/Python39/lib/ssl.py?line=1239'>1240</a>\u001b[0m           \u001b[39mself\u001b[39m\u001b[39m.\u001b[39m\u001b[39m__class__\u001b[39m)\n\u001b[1;32m-> <a href='file:///c%3A/Users/lashk/AppData/Local/Programs/Python/Python39/lib/ssl.py?line=1240'>1241</a>\u001b[0m     \u001b[39mreturn\u001b[39;00m \u001b[39mself\u001b[39;49m\u001b[39m.\u001b[39;49mread(nbytes, buffer)\n\u001b[0;32m   <a href='file:///c%3A/Users/lashk/AppData/Local/Programs/Python/Python39/lib/ssl.py?line=1241'>1242</a>\u001b[0m \u001b[39melse\u001b[39;00m:\n\u001b[0;32m   <a href='file:///c%3A/Users/lashk/AppData/Local/Programs/Python/Python39/lib/ssl.py?line=1242'>1243</a>\u001b[0m     \u001b[39mreturn\u001b[39;00m \u001b[39msuper\u001b[39m()\u001b[39m.\u001b[39mrecv_into(buffer, nbytes, flags)\n",
      "File \u001b[1;32mc:\\Users\\lashk\\AppData\\Local\\Programs\\Python\\Python39\\lib\\ssl.py:1099\u001b[0m, in \u001b[0;36mSSLSocket.read\u001b[1;34m(self, len, buffer)\u001b[0m\n\u001b[0;32m   <a href='file:///c%3A/Users/lashk/AppData/Local/Programs/Python/Python39/lib/ssl.py?line=1096'>1097</a>\u001b[0m \u001b[39mtry\u001b[39;00m:\n\u001b[0;32m   <a href='file:///c%3A/Users/lashk/AppData/Local/Programs/Python/Python39/lib/ssl.py?line=1097'>1098</a>\u001b[0m     \u001b[39mif\u001b[39;00m buffer \u001b[39mis\u001b[39;00m \u001b[39mnot\u001b[39;00m \u001b[39mNone\u001b[39;00m:\n\u001b[1;32m-> <a href='file:///c%3A/Users/lashk/AppData/Local/Programs/Python/Python39/lib/ssl.py?line=1098'>1099</a>\u001b[0m         \u001b[39mreturn\u001b[39;00m \u001b[39mself\u001b[39;49m\u001b[39m.\u001b[39;49m_sslobj\u001b[39m.\u001b[39;49mread(\u001b[39mlen\u001b[39;49m, buffer)\n\u001b[0;32m   <a href='file:///c%3A/Users/lashk/AppData/Local/Programs/Python/Python39/lib/ssl.py?line=1099'>1100</a>\u001b[0m     \u001b[39melse\u001b[39;00m:\n\u001b[0;32m   <a href='file:///c%3A/Users/lashk/AppData/Local/Programs/Python/Python39/lib/ssl.py?line=1100'>1101</a>\u001b[0m         \u001b[39mreturn\u001b[39;00m \u001b[39mself\u001b[39m\u001b[39m.\u001b[39m_sslobj\u001b[39m.\u001b[39mread(\u001b[39mlen\u001b[39m)\n",
      "\u001b[1;31mKeyboardInterrupt\u001b[0m: "
     ]
    }
   ],
   "source": [
    "last = pd.read_csv('last.csv')\n",
    "last = last.iloc[0]['appid']\n",
    "#read apps to csv file\n",
    "current = pd.DataFrame()\n",
    "for id in apps[apps['appid'] > last]['appid']:\n",
    "    current = getAppReviews(id, 51, 0.87)\n",
    "    if not current.empty:\n",
    "        name=(df.loc[df['appid'] == id,'name'].values[0]) #get current name\n",
    "        current.insert(0,'name',name) #add column of name to df for labeling\n",
    "        current.insert(0,'appid',id) #add column of appid to df\n",
    "        current.to_csv('reviews.csv', mode='a', index=False, header=False)\n",
    "        current.tail(1).to_csv('last.csv')\n",
    "        #all_reviews=pd.concat([all_reviews, current], ignore_index=True) #append to larger db\n",
    "all_reviews.to_csv(\"reviews.csv\")\n",
    "    \n"
   ]
  },
  {
   "cell_type": "markdown",
   "metadata": {},
   "source": [
    "What am I doing next? \n",
    "\n",
    "* write code to iterate through the applist\n",
    "    * check if pd is empty\n",
    "    * add to major overall database\n",
    "* save database to file to upload to kaggle\n",
    "\n",
    "New idea:\n",
    "* we know that the database will be huge and will take days to compile, so why don't we write a process that can start and stop regardless of user intervention? I still want to turn my computer off at night. \n",
    "    * instead of appending to a total database, we write each one to add to an existing csv file. \n",
    "    * When starting the process up again, we check the csv to know where we should start. this way we can start and stop without having to worry about tracking where we stopped last.\n",
    "    "
   ]
  },
  {
   "cell_type": "code",
   "execution_count": 42,
   "metadata": {},
   "outputs": [
    {
     "name": "stdout",
     "output_type": "stream",
     "text": [
      "False\n"
     ]
    }
   ],
   "source": [
    "#Test Value cell\n",
    "apptest = 1462040\n",
    "df = getAppReviews(apptest, 51, 0.87)\n",
    "print(df.empty)\n"
   ]
  },
  {
   "cell_type": "code",
   "execution_count": 43,
   "metadata": {},
   "outputs": [
    {
     "data": {
      "text/html": [
       "<div>\n",
       "<style scoped>\n",
       "    .dataframe tbody tr th:only-of-type {\n",
       "        vertical-align: middle;\n",
       "    }\n",
       "\n",
       "    .dataframe tbody tr th {\n",
       "        vertical-align: top;\n",
       "    }\n",
       "\n",
       "    .dataframe thead th {\n",
       "        text-align: right;\n",
       "    }\n",
       "</style>\n",
       "<table border=\"1\" class=\"dataframe\">\n",
       "  <thead>\n",
       "    <tr style=\"text-align: right;\">\n",
       "      <th></th>\n",
       "      <th>recommendationid</th>\n",
       "      <th>language</th>\n",
       "      <th>review</th>\n",
       "      <th>timestamp_created</th>\n",
       "      <th>timestamp_updated</th>\n",
       "      <th>voted_up</th>\n",
       "      <th>votes_up</th>\n",
       "      <th>votes_funny</th>\n",
       "      <th>weighted_vote_score</th>\n",
       "      <th>comment_count</th>\n",
       "      <th>steam_purchase</th>\n",
       "      <th>received_for_free</th>\n",
       "      <th>written_during_early_access</th>\n",
       "      <th>author.steamid</th>\n",
       "      <th>author.num_games_owned</th>\n",
       "      <th>author.num_reviews</th>\n",
       "      <th>author.playtime_forever</th>\n",
       "      <th>author.playtime_last_two_weeks</th>\n",
       "      <th>author.playtime_at_review</th>\n",
       "      <th>author.last_played</th>\n",
       "    </tr>\n",
       "  </thead>\n",
       "  <tbody>\n",
       "    <tr>\n",
       "      <th>0</th>\n",
       "      <td>118403162</td>\n",
       "      <td>english</td>\n",
       "      <td>Remake and it's on PC, what more can you ask f...</td>\n",
       "      <td>1657218023</td>\n",
       "      <td>1657218023</td>\n",
       "      <td>True</td>\n",
       "      <td>0</td>\n",
       "      <td>0</td>\n",
       "      <td>0</td>\n",
       "      <td>0</td>\n",
       "      <td>True</td>\n",
       "      <td>False</td>\n",
       "      <td>False</td>\n",
       "      <td>76561198017661797</td>\n",
       "      <td>46</td>\n",
       "      <td>3</td>\n",
       "      <td>870</td>\n",
       "      <td>870</td>\n",
       "      <td>870</td>\n",
       "      <td>1657217906</td>\n",
       "    </tr>\n",
       "    <tr>\n",
       "      <th>1</th>\n",
       "      <td>118402906</td>\n",
       "      <td>english</td>\n",
       "      <td>Great revisit to the game. I loved the cut sce...</td>\n",
       "      <td>1657217747</td>\n",
       "      <td>1657217747</td>\n",
       "      <td>True</td>\n",
       "      <td>0</td>\n",
       "      <td>0</td>\n",
       "      <td>0</td>\n",
       "      <td>0</td>\n",
       "      <td>True</td>\n",
       "      <td>False</td>\n",
       "      <td>False</td>\n",
       "      <td>76561198073669555</td>\n",
       "      <td>41</td>\n",
       "      <td>2</td>\n",
       "      <td>3096</td>\n",
       "      <td>3096</td>\n",
       "      <td>3071</td>\n",
       "      <td>1657218885</td>\n",
       "    </tr>\n",
       "    <tr>\n",
       "      <th>2</th>\n",
       "      <td>118402709</td>\n",
       "      <td>english</td>\n",
       "      <td>This is game isn't just bad, I can almost feel...</td>\n",
       "      <td>1657217543</td>\n",
       "      <td>1657217543</td>\n",
       "      <td>False</td>\n",
       "      <td>0</td>\n",
       "      <td>0</td>\n",
       "      <td>0.458998531103134155</td>\n",
       "      <td>0</td>\n",
       "      <td>True</td>\n",
       "      <td>False</td>\n",
       "      <td>False</td>\n",
       "      <td>76561198069565559</td>\n",
       "      <td>176</td>\n",
       "      <td>11</td>\n",
       "      <td>4557</td>\n",
       "      <td>4364</td>\n",
       "      <td>4557</td>\n",
       "      <td>1657209829</td>\n",
       "    </tr>\n",
       "    <tr>\n",
       "      <th>3</th>\n",
       "      <td>117643060</td>\n",
       "      <td>english</td>\n",
       "      <td>i love Aerith</td>\n",
       "      <td>1656238808</td>\n",
       "      <td>1657213036</td>\n",
       "      <td>True</td>\n",
       "      <td>0</td>\n",
       "      <td>0</td>\n",
       "      <td>0</td>\n",
       "      <td>0</td>\n",
       "      <td>True</td>\n",
       "      <td>False</td>\n",
       "      <td>False</td>\n",
       "      <td>76561198860089878</td>\n",
       "      <td>135</td>\n",
       "      <td>6</td>\n",
       "      <td>1343</td>\n",
       "      <td>1343</td>\n",
       "      <td>1343</td>\n",
       "      <td>1657117141</td>\n",
       "    </tr>\n",
       "    <tr>\n",
       "      <th>4</th>\n",
       "      <td>118397635</td>\n",
       "      <td>english</td>\n",
       "      <td>this remake is in good hands</td>\n",
       "      <td>1657211954</td>\n",
       "      <td>1657211954</td>\n",
       "      <td>True</td>\n",
       "      <td>0</td>\n",
       "      <td>0</td>\n",
       "      <td>0</td>\n",
       "      <td>0</td>\n",
       "      <td>True</td>\n",
       "      <td>False</td>\n",
       "      <td>False</td>\n",
       "      <td>76561198050524284</td>\n",
       "      <td>61</td>\n",
       "      <td>21</td>\n",
       "      <td>2970</td>\n",
       "      <td>2970</td>\n",
       "      <td>2883</td>\n",
       "      <td>1657217271</td>\n",
       "    </tr>\n",
       "  </tbody>\n",
       "</table>\n",
       "</div>"
      ],
      "text/plain": [
       "  recommendationid language  \\\n",
       "0        118403162  english   \n",
       "1        118402906  english   \n",
       "2        118402709  english   \n",
       "3        117643060  english   \n",
       "4        118397635  english   \n",
       "\n",
       "                                              review  timestamp_created  \\\n",
       "0  Remake and it's on PC, what more can you ask f...         1657218023   \n",
       "1  Great revisit to the game. I loved the cut sce...         1657217747   \n",
       "2  This is game isn't just bad, I can almost feel...         1657217543   \n",
       "3                                      i love Aerith         1656238808   \n",
       "4                       this remake is in good hands         1657211954   \n",
       "\n",
       "   timestamp_updated  voted_up  votes_up  votes_funny   weighted_vote_score  \\\n",
       "0         1657218023      True         0            0                     0   \n",
       "1         1657217747      True         0            0                     0   \n",
       "2         1657217543     False         0            0  0.458998531103134155   \n",
       "3         1657213036      True         0            0                     0   \n",
       "4         1657211954      True         0            0                     0   \n",
       "\n",
       "   comment_count  steam_purchase  received_for_free  \\\n",
       "0              0            True              False   \n",
       "1              0            True              False   \n",
       "2              0            True              False   \n",
       "3              0            True              False   \n",
       "4              0            True              False   \n",
       "\n",
       "   written_during_early_access     author.steamid  author.num_games_owned  \\\n",
       "0                        False  76561198017661797                      46   \n",
       "1                        False  76561198073669555                      41   \n",
       "2                        False  76561198069565559                     176   \n",
       "3                        False  76561198860089878                     135   \n",
       "4                        False  76561198050524284                      61   \n",
       "\n",
       "   author.num_reviews  author.playtime_forever  \\\n",
       "0                   3                      870   \n",
       "1                   2                     3096   \n",
       "2                  11                     4557   \n",
       "3                   6                     1343   \n",
       "4                  21                     2970   \n",
       "\n",
       "   author.playtime_last_two_weeks  author.playtime_at_review  \\\n",
       "0                             870                        870   \n",
       "1                            3096                       3071   \n",
       "2                            4364                       4557   \n",
       "3                            1343                       1343   \n",
       "4                            2970                       2883   \n",
       "\n",
       "   author.last_played  \n",
       "0          1657217906  \n",
       "1          1657218885  \n",
       "2          1657209829  \n",
       "3          1657117141  \n",
       "4          1657217271  "
      ]
     },
     "execution_count": 43,
     "metadata": {},
     "output_type": "execute_result"
    }
   ],
   "source": [
    "id=1462040\n",
    "df.insert(0,dc,value)"
   ]
  },
  {
   "cell_type": "code",
   "execution_count": 55,
   "metadata": {},
   "outputs": [
    {
     "data": {
      "text/plain": [
       "Int64Index([], dtype='int64')"
      ]
     },
     "execution_count": 55,
     "metadata": {},
     "output_type": "execute_result"
    }
   ],
   "source": [
    "dc.index[dc['appid']=='1462040']\n"
   ]
  },
  {
   "cell_type": "code",
   "execution_count": 33,
   "metadata": {},
   "outputs": [
    {
     "name": "stdout",
     "output_type": "stream",
     "text": [
      "   sample_col1  sample_col2  sample_col3\n",
      "2          123            1           97\n",
      "97\n"
     ]
    }
   ],
   "source": [
    "d = {'sample_col1': [1, 2, 123],\n",
    "     'sample_col2': [4, 5, 1], \n",
    "     'sample_col3': [7, 8, 97]} \n",
    "\n",
    "df = pd.DataFrame(d) \n",
    "tdf = pd.DataFrame()\n",
    "print(df.loc[df['sample_col1'] == 123])\n",
    "print(df.loc[df['sample_col1'] == 123,'sample_col3'].values[0])\n",
    "df.tail(1).to_csv('last.csv')"
   ]
  },
  {
   "cell_type": "code",
   "execution_count": 48,
   "metadata": {},
   "outputs": [
    {
     "name": "stdout",
     "output_type": "stream",
     "text": [
      "   index  sample_col1  sample_col2  sample_col3\n",
      "0      2          123            1           97\n",
      "1      0            1            4            7\n",
      "2      1            2            5            8\n",
      "5\n",
      "index\n",
      "sample_col1\n",
      "sample_col2\n",
      "sample_col3\n"
     ]
    }
   ],
   "source": [
    "n = df.sort_values(by=['sample_col2']).reset_index()\n",
    "print(n)\n",
    "print(n[n['sample_col2'] > 4].iloc[0]['sample_col2'])\n",
    "for row in n[n['sample_col2'] > 1]:\n",
    "    print(row)\n"
   ]
  }
 ],
 "metadata": {
  "interpreter": {
   "hash": "d43b68a7c02f1b6f679871d282f339b9b97ade0719963734d38dcf68abdd3654"
  },
  "kernelspec": {
   "display_name": "Python 3.9.5 64-bit",
   "language": "python",
   "name": "python3"
  },
  "language_info": {
   "codemirror_mode": {
    "name": "ipython",
    "version": 3
   },
   "file_extension": ".py",
   "mimetype": "text/x-python",
   "name": "python",
   "nbconvert_exporter": "python",
   "pygments_lexer": "ipython3",
   "version": "3.9.5"
  },
  "orig_nbformat": 4,
  "vscode": {
   "interpreter": {
    "hash": "4ee81009d6d9a07bca774aad8c0a6d352d061c6bbbb056f5c5eb5097d6bf7274"
   }
  }
 },
 "nbformat": 4,
 "nbformat_minor": 2
}
