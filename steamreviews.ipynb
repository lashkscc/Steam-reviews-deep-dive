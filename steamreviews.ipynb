{
 "cells": [
  {
   "cell_type": "markdown",
   "metadata": {},
   "source": [
    "# Steam reviews deep dive\n",
    "\n",
    "This notebook will act as a live document as I use it to source, clean and analyze a dataset sourced from Steam. The notebook will overall be split into two sections:\n",
    "* Getting the database\n",
    "* Analyzing the database\n",
    "\n",
    "Once the database is formed, it will most likely be huge. Instead of storing it on github, I will upload it to kaggle, at which point I will load said database for the sections afterwards. \n",
    "\n"
   ]
  },
  {
   "cell_type": "markdown",
   "metadata": {},
   "source": [
    "## Steam Reviews Get!\n"
   ]
  },
  {
   "cell_type": "markdown",
   "metadata": {},
   "source": [
    "#### Objectives\n",
    "* Source a dataset of all English reviews on steam!\n",
    "    * Access publicly available api calls for store.steampowered\n",
    "    * end with a dataframe for which a row will hold the app title/id, review author details, and review details\n",
    "* Write and save dataset to Kaggle for convenience\n",
    "* Thoroughly document process to help learn and also later reference as a tutorial\n",
    "\n",
    "#### Concerns\n",
    "* Avoiding DOS\n",
    "    * I'm making an obscene number of requests from Valve what happens if I request too much?\n",
    "    * Can I limit the amount of requests I make and request in a piecemeal fashion?\n",
    "        * From research, it looks like steam limits the amount of requests allowed to 100,000 per calendar day. \n",
    "        * Approach two different ways: sleep an amount every request to ensure I don't go over (865ms per request) or count requests via a global variable and sleep on 100,000\n",
    "        "
   ]
  },
  {
   "cell_type": "code",
   "execution_count": 21,
   "metadata": {},
   "outputs": [],
   "source": [
    "import pandas as pd\n",
    "import numpy as np\n",
    "import requests\n",
    "import time"
   ]
  },
  {
   "cell_type": "code",
   "execution_count": 51,
   "metadata": {},
   "outputs": [],
   "source": [
    "\n",
    "\n",
    "URL= \"https://store.steampowered.com/appreviews/317710?json=1\"\n",
    "cursor = '*'\n",
    "PARAMS = {\n",
    "    'filter':'updated',\n",
    "    'language':'english',\n",
    "    'cursor': cursor,\n",
    "    'purchase_type':'all',\n",
    "    'num_per_page' : 1,\n",
    "}\n",
    "\n",
    "1533420\n",
    "r = requests.get(URL, PARAMS)\n",
    "r=r.json()"
   ]
  },
  {
   "cell_type": "code",
   "execution_count": 52,
   "metadata": {},
   "outputs": [
    {
     "name": "stdout",
     "output_type": "stream",
     "text": [
      "{'success': 1, 'query_summary': {'num_reviews': 1, 'review_score': 8, 'review_score_desc': 'Very Positive', 'total_positive': 346, 'total_negative': 50, 'total_reviews': 396}, 'reviews': [{'recommendationid': '115975941', 'author': {'steamid': '76561198091142053', 'num_games_owned': 239, 'num_reviews': 2, 'playtime_forever': 6438, 'playtime_last_two_weeks': 9, 'playtime_at_review': 6428, 'last_played': 1655940748}, 'language': 'english', 'review': \"If you like anything you see of this, or you go and play the Demo version and like what you see, the whole game is exactly as shown. Fast paced, quick to get started (as in you die and can, within a second, start again), and all about memorizing the different segments of each level. Not a forgiving game, and if you have anger issues, be prepared to step back and breath. But really rewarding when you finally Beat it and get to level 9 and not just survive, but flourish.\\n\\nWarning, How the game plays it directly related to your frame rate. Even after the update stating that they fixed the issue, it's still sort of present. Make sure your Machine is capable of running this game well, else it will be more difficult than it needs to be (Or neigh impossible if bad enough).\\n\\nSeriously though,\\n10/10 Will Always Play Again=]\", 'timestamp_created': 1653459303, 'timestamp_updated': 1653459303, 'voted_up': True, 'votes_up': 0, 'votes_funny': 0, 'weighted_vote_score': 0, 'comment_count': 0, 'steam_purchase': True, 'received_for_free': False, 'written_during_early_access': False}], 'cursor': 'AoJ4pdf2/IADdfC0ugM='}\n",
      "396\n",
      "AoJ4pdf2/IADdfC0ugM=\n"
     ]
    }
   ],
   "source": [
    "print(r)\n",
    "\n",
    "print(r[\"query_summary\"]['total_reviews'])\n",
    "print(r[\"cursor\"])"
   ]
  },
  {
   "cell_type": "code",
   "execution_count": 94,
   "metadata": {},
   "outputs": [],
   "source": [
    "# print(r[\"reviews\"])\n",
    "df = pd.json_normalize(r[\"reviews\"])\n",
    "# df.head()"
   ]
  },
  {
   "cell_type": "code",
   "execution_count": 28,
   "metadata": {},
   "outputs": [],
   "source": [
    "def getAppReviews(app, step, pause): #get all reviews associated with an app given an appid, size to get reviews with, and a pause between each request (seconds)\n",
    "    URL = \"https://store.steampowered.com/appreviews/\" + str(app) +\"?json=1\"\n",
    "\n",
    "    tally=step\n",
    "    PARAMS = {\n",
    "        'language':'english',\n",
    "        'filter':'updated',\n",
    "        'purchase_type':'all',\n",
    "        'cursor': '*',  #initial value defined in steam's documentation\n",
    "        'num_per_page' : step,\n",
    "    }\n",
    "\n",
    "    r = requests.get(URL, PARAMS)\n",
    "    r=r.json()\n",
    "    nCursor = {'cursor' : r[\"cursor\"]}\n",
    "    PARAMS.update(nCursor)\n",
    "    total = r[\"query_summary\"]['total_reviews']\n",
    "    df = pd.json_normalize(r[\"reviews\"])\n",
    "    while tally < total:\n",
    "        time.sleep(pause)\n",
    "        r = requests.get(URL, PARAMS)\n",
    "        r=r.json()\n",
    "        df = pd.concat([df, (pd.json_normalize(r[\"reviews\"]))])\n",
    "        tally += step\n",
    "        nCursor = {'cursor' : r[\"cursor\"]}\n",
    "        PARAMS.update(nCursor)\n",
    "    return df\n",
    "    "
   ]
  },
  {
   "cell_type": "code",
   "execution_count": 70,
   "metadata": {},
   "outputs": [],
   "source": [
    "df = getAppReviews(317710, 51, 0.87)"
   ]
  },
  {
   "cell_type": "code",
   "execution_count": 65,
   "metadata": {},
   "outputs": [
    {
     "data": {
      "text/plain": [
       "(396, 20)"
      ]
     },
     "execution_count": 65,
     "metadata": {},
     "output_type": "execute_result"
    }
   ],
   "source": [
    "df.shape"
   ]
  },
  {
   "cell_type": "markdown",
   "metadata": {},
   "source": [
    "We now have a method to get reviews given a specific app. Next we get a list of all apps to call from."
   ]
  },
  {
   "cell_type": "code",
   "execution_count": 51,
   "metadata": {},
   "outputs": [],
   "source": [
    "apps = requests.get(\"https://api.steampowered.com/ISteamApps/GetAppList/v2/\")\n",
    "apps=apps.json()"
   ]
  },
  {
   "cell_type": "code",
   "execution_count": 52,
   "metadata": {},
   "outputs": [],
   "source": [
    "df = pd.json_normalize(apps[\"applist\"][\"apps\"])"
   ]
  },
  {
   "cell_type": "code",
   "execution_count": 53,
   "metadata": {},
   "outputs": [
    {
     "data": {
      "text/html": [
       "<div>\n",
       "<style scoped>\n",
       "    .dataframe tbody tr th:only-of-type {\n",
       "        vertical-align: middle;\n",
       "    }\n",
       "\n",
       "    .dataframe tbody tr th {\n",
       "        vertical-align: top;\n",
       "    }\n",
       "\n",
       "    .dataframe thead th {\n",
       "        text-align: right;\n",
       "    }\n",
       "</style>\n",
       "<table border=\"1\" class=\"dataframe\">\n",
       "  <thead>\n",
       "    <tr style=\"text-align: right;\">\n",
       "      <th></th>\n",
       "      <th>appid</th>\n",
       "      <th>name</th>\n",
       "    </tr>\n",
       "  </thead>\n",
       "  <tbody>\n",
       "    <tr>\n",
       "      <th>0</th>\n",
       "      <td>1829051</td>\n",
       "      <td></td>\n",
       "    </tr>\n",
       "    <tr>\n",
       "      <th>1</th>\n",
       "      <td>1808781</td>\n",
       "      <td></td>\n",
       "    </tr>\n",
       "    <tr>\n",
       "      <th>2</th>\n",
       "      <td>1983382</td>\n",
       "      <td></td>\n",
       "    </tr>\n",
       "    <tr>\n",
       "      <th>3</th>\n",
       "      <td>1828741</td>\n",
       "      <td></td>\n",
       "    </tr>\n",
       "    <tr>\n",
       "      <th>4</th>\n",
       "      <td>216938</td>\n",
       "      <td>Pieterw test app76 ( 216938 )</td>\n",
       "    </tr>\n",
       "  </tbody>\n",
       "</table>\n",
       "</div>"
      ],
      "text/plain": [
       "     appid                           name\n",
       "0  1829051                               \n",
       "1  1808781                               \n",
       "2  1983382                               \n",
       "3  1828741                               \n",
       "4   216938  Pieterw test app76 ( 216938 )"
      ]
     },
     "execution_count": 53,
     "metadata": {},
     "output_type": "execute_result"
    }
   ],
   "source": [
    "df.head()"
   ]
  },
  {
   "cell_type": "code",
   "execution_count": 54,
   "metadata": {},
   "outputs": [
    {
     "data": {
      "text/html": [
       "<div>\n",
       "<style scoped>\n",
       "    .dataframe tbody tr th:only-of-type {\n",
       "        vertical-align: middle;\n",
       "    }\n",
       "\n",
       "    .dataframe tbody tr th {\n",
       "        vertical-align: top;\n",
       "    }\n",
       "\n",
       "    .dataframe thead th {\n",
       "        text-align: right;\n",
       "    }\n",
       "</style>\n",
       "<table border=\"1\" class=\"dataframe\">\n",
       "  <thead>\n",
       "    <tr style=\"text-align: right;\">\n",
       "      <th></th>\n",
       "      <th>appid</th>\n",
       "      <th>name</th>\n",
       "    </tr>\n",
       "  </thead>\n",
       "  <tbody>\n",
       "    <tr>\n",
       "      <th>0</th>\n",
       "      <td>216938</td>\n",
       "      <td>Pieterw test app76 ( 216938 )</td>\n",
       "    </tr>\n",
       "    <tr>\n",
       "      <th>1</th>\n",
       "      <td>660010</td>\n",
       "      <td>test2</td>\n",
       "    </tr>\n",
       "    <tr>\n",
       "      <th>2</th>\n",
       "      <td>660130</td>\n",
       "      <td>test3</td>\n",
       "    </tr>\n",
       "    <tr>\n",
       "      <th>3</th>\n",
       "      <td>1460200</td>\n",
       "      <td>Merge Nymphs</td>\n",
       "    </tr>\n",
       "    <tr>\n",
       "      <th>4</th>\n",
       "      <td>1479780</td>\n",
       "      <td>Our Apartment</td>\n",
       "    </tr>\n",
       "  </tbody>\n",
       "</table>\n",
       "</div>"
      ],
      "text/plain": [
       "     appid                           name\n",
       "0   216938  Pieterw test app76 ( 216938 )\n",
       "1   660010                          test2\n",
       "2   660130                          test3\n",
       "3  1460200                   Merge Nymphs\n",
       "4  1479780                  Our Apartment"
      ]
     },
     "execution_count": 54,
     "metadata": {},
     "output_type": "execute_result"
    }
   ],
   "source": [
    "dc=df.replace(r'^\\s*$', np.nan, regex=True)\n",
    "dc=dc.dropna()\n",
    "dc.shape\n",
    "dc.reset_index(drop=True, inplace=True)\n",
    "dc.head()"
   ]
  },
  {
   "cell_type": "code",
   "execution_count": 39,
   "metadata": {},
   "outputs": [
    {
     "data": {
      "text/plain": [
       "216938"
      ]
     },
     "execution_count": 39,
     "metadata": {},
     "output_type": "execute_result"
    }
   ],
   "source": [
    "apps = dc\n",
    "all_reviews = pd.DataFrame\n",
    "for id in apps['appid']:\n",
    "    df = getAppReviews(apptest, 51, 0.87)\n",
    "    \n"
   ]
  },
  {
   "cell_type": "markdown",
   "metadata": {},
   "source": [
    "What am I doing next? \n",
    "\n",
    "* write code to iterate through the applist\n",
    "    * check if pd is empty\n",
    "    * add to major overall database\n",
    "* save database to file to upload to kaggle\n",
    "\n",
    "    "
   ]
  },
  {
   "cell_type": "code",
   "execution_count": 42,
   "metadata": {},
   "outputs": [
    {
     "name": "stdout",
     "output_type": "stream",
     "text": [
      "False\n"
     ]
    }
   ],
   "source": [
    "#Test Value cell\n",
    "apptest = 1462040\n",
    "df = getAppReviews(apptest, 51, 0.87)\n",
    "print(df.empty)\n"
   ]
  },
  {
   "cell_type": "code",
   "execution_count": 43,
   "metadata": {},
   "outputs": [
    {
     "data": {
      "text/html": [
       "<div>\n",
       "<style scoped>\n",
       "    .dataframe tbody tr th:only-of-type {\n",
       "        vertical-align: middle;\n",
       "    }\n",
       "\n",
       "    .dataframe tbody tr th {\n",
       "        vertical-align: top;\n",
       "    }\n",
       "\n",
       "    .dataframe thead th {\n",
       "        text-align: right;\n",
       "    }\n",
       "</style>\n",
       "<table border=\"1\" class=\"dataframe\">\n",
       "  <thead>\n",
       "    <tr style=\"text-align: right;\">\n",
       "      <th></th>\n",
       "      <th>recommendationid</th>\n",
       "      <th>language</th>\n",
       "      <th>review</th>\n",
       "      <th>timestamp_created</th>\n",
       "      <th>timestamp_updated</th>\n",
       "      <th>voted_up</th>\n",
       "      <th>votes_up</th>\n",
       "      <th>votes_funny</th>\n",
       "      <th>weighted_vote_score</th>\n",
       "      <th>comment_count</th>\n",
       "      <th>steam_purchase</th>\n",
       "      <th>received_for_free</th>\n",
       "      <th>written_during_early_access</th>\n",
       "      <th>author.steamid</th>\n",
       "      <th>author.num_games_owned</th>\n",
       "      <th>author.num_reviews</th>\n",
       "      <th>author.playtime_forever</th>\n",
       "      <th>author.playtime_last_two_weeks</th>\n",
       "      <th>author.playtime_at_review</th>\n",
       "      <th>author.last_played</th>\n",
       "    </tr>\n",
       "  </thead>\n",
       "  <tbody>\n",
       "    <tr>\n",
       "      <th>0</th>\n",
       "      <td>118403162</td>\n",
       "      <td>english</td>\n",
       "      <td>Remake and it's on PC, what more can you ask f...</td>\n",
       "      <td>1657218023</td>\n",
       "      <td>1657218023</td>\n",
       "      <td>True</td>\n",
       "      <td>0</td>\n",
       "      <td>0</td>\n",
       "      <td>0</td>\n",
       "      <td>0</td>\n",
       "      <td>True</td>\n",
       "      <td>False</td>\n",
       "      <td>False</td>\n",
       "      <td>76561198017661797</td>\n",
       "      <td>46</td>\n",
       "      <td>3</td>\n",
       "      <td>870</td>\n",
       "      <td>870</td>\n",
       "      <td>870</td>\n",
       "      <td>1657217906</td>\n",
       "    </tr>\n",
       "    <tr>\n",
       "      <th>1</th>\n",
       "      <td>118402906</td>\n",
       "      <td>english</td>\n",
       "      <td>Great revisit to the game. I loved the cut sce...</td>\n",
       "      <td>1657217747</td>\n",
       "      <td>1657217747</td>\n",
       "      <td>True</td>\n",
       "      <td>0</td>\n",
       "      <td>0</td>\n",
       "      <td>0</td>\n",
       "      <td>0</td>\n",
       "      <td>True</td>\n",
       "      <td>False</td>\n",
       "      <td>False</td>\n",
       "      <td>76561198073669555</td>\n",
       "      <td>41</td>\n",
       "      <td>2</td>\n",
       "      <td>3096</td>\n",
       "      <td>3096</td>\n",
       "      <td>3071</td>\n",
       "      <td>1657218885</td>\n",
       "    </tr>\n",
       "    <tr>\n",
       "      <th>2</th>\n",
       "      <td>118402709</td>\n",
       "      <td>english</td>\n",
       "      <td>This is game isn't just bad, I can almost feel...</td>\n",
       "      <td>1657217543</td>\n",
       "      <td>1657217543</td>\n",
       "      <td>False</td>\n",
       "      <td>0</td>\n",
       "      <td>0</td>\n",
       "      <td>0.458998531103134155</td>\n",
       "      <td>0</td>\n",
       "      <td>True</td>\n",
       "      <td>False</td>\n",
       "      <td>False</td>\n",
       "      <td>76561198069565559</td>\n",
       "      <td>176</td>\n",
       "      <td>11</td>\n",
       "      <td>4557</td>\n",
       "      <td>4364</td>\n",
       "      <td>4557</td>\n",
       "      <td>1657209829</td>\n",
       "    </tr>\n",
       "    <tr>\n",
       "      <th>3</th>\n",
       "      <td>117643060</td>\n",
       "      <td>english</td>\n",
       "      <td>i love Aerith</td>\n",
       "      <td>1656238808</td>\n",
       "      <td>1657213036</td>\n",
       "      <td>True</td>\n",
       "      <td>0</td>\n",
       "      <td>0</td>\n",
       "      <td>0</td>\n",
       "      <td>0</td>\n",
       "      <td>True</td>\n",
       "      <td>False</td>\n",
       "      <td>False</td>\n",
       "      <td>76561198860089878</td>\n",
       "      <td>135</td>\n",
       "      <td>6</td>\n",
       "      <td>1343</td>\n",
       "      <td>1343</td>\n",
       "      <td>1343</td>\n",
       "      <td>1657117141</td>\n",
       "    </tr>\n",
       "    <tr>\n",
       "      <th>4</th>\n",
       "      <td>118397635</td>\n",
       "      <td>english</td>\n",
       "      <td>this remake is in good hands</td>\n",
       "      <td>1657211954</td>\n",
       "      <td>1657211954</td>\n",
       "      <td>True</td>\n",
       "      <td>0</td>\n",
       "      <td>0</td>\n",
       "      <td>0</td>\n",
       "      <td>0</td>\n",
       "      <td>True</td>\n",
       "      <td>False</td>\n",
       "      <td>False</td>\n",
       "      <td>76561198050524284</td>\n",
       "      <td>61</td>\n",
       "      <td>21</td>\n",
       "      <td>2970</td>\n",
       "      <td>2970</td>\n",
       "      <td>2883</td>\n",
       "      <td>1657217271</td>\n",
       "    </tr>\n",
       "  </tbody>\n",
       "</table>\n",
       "</div>"
      ],
      "text/plain": [
       "  recommendationid language  \\\n",
       "0        118403162  english   \n",
       "1        118402906  english   \n",
       "2        118402709  english   \n",
       "3        117643060  english   \n",
       "4        118397635  english   \n",
       "\n",
       "                                              review  timestamp_created  \\\n",
       "0  Remake and it's on PC, what more can you ask f...         1657218023   \n",
       "1  Great revisit to the game. I loved the cut sce...         1657217747   \n",
       "2  This is game isn't just bad, I can almost feel...         1657217543   \n",
       "3                                      i love Aerith         1656238808   \n",
       "4                       this remake is in good hands         1657211954   \n",
       "\n",
       "   timestamp_updated  voted_up  votes_up  votes_funny   weighted_vote_score  \\\n",
       "0         1657218023      True         0            0                     0   \n",
       "1         1657217747      True         0            0                     0   \n",
       "2         1657217543     False         0            0  0.458998531103134155   \n",
       "3         1657213036      True         0            0                     0   \n",
       "4         1657211954      True         0            0                     0   \n",
       "\n",
       "   comment_count  steam_purchase  received_for_free  \\\n",
       "0              0            True              False   \n",
       "1              0            True              False   \n",
       "2              0            True              False   \n",
       "3              0            True              False   \n",
       "4              0            True              False   \n",
       "\n",
       "   written_during_early_access     author.steamid  author.num_games_owned  \\\n",
       "0                        False  76561198017661797                      46   \n",
       "1                        False  76561198073669555                      41   \n",
       "2                        False  76561198069565559                     176   \n",
       "3                        False  76561198860089878                     135   \n",
       "4                        False  76561198050524284                      61   \n",
       "\n",
       "   author.num_reviews  author.playtime_forever  \\\n",
       "0                   3                      870   \n",
       "1                   2                     3096   \n",
       "2                  11                     4557   \n",
       "3                   6                     1343   \n",
       "4                  21                     2970   \n",
       "\n",
       "   author.playtime_last_two_weeks  author.playtime_at_review  \\\n",
       "0                             870                        870   \n",
       "1                            3096                       3071   \n",
       "2                            4364                       4557   \n",
       "3                            1343                       1343   \n",
       "4                            2970                       2883   \n",
       "\n",
       "   author.last_played  \n",
       "0          1657217906  \n",
       "1          1657218885  \n",
       "2          1657209829  \n",
       "3          1657117141  \n",
       "4          1657217271  "
      ]
     },
     "execution_count": 43,
     "metadata": {},
     "output_type": "execute_result"
    }
   ],
   "source": [
    "id=1462040\n",
    "df.insert(0,dc,value)"
   ]
  },
  {
   "cell_type": "code",
   "execution_count": 55,
   "metadata": {},
   "outputs": [
    {
     "data": {
      "text/plain": [
       "Int64Index([], dtype='int64')"
      ]
     },
     "execution_count": 55,
     "metadata": {},
     "output_type": "execute_result"
    }
   ],
   "source": [
    "dc.index[dc['appid']=='1462040']\n"
   ]
  },
  {
   "cell_type": "markdown",
   "metadata": {},
   "source": []
  }
 ],
 "metadata": {
  "kernelspec": {
   "display_name": "Python 3.10.4 ('.venv': poetry)",
   "language": "python",
   "name": "python3"
  },
  "language_info": {
   "codemirror_mode": {
    "name": "ipython",
    "version": 3
   },
   "file_extension": ".py",
   "mimetype": "text/x-python",
   "name": "python",
   "nbconvert_exporter": "python",
   "pygments_lexer": "ipython3",
   "version": "3.10.4"
  },
  "orig_nbformat": 4,
  "vscode": {
   "interpreter": {
    "hash": "4ee81009d6d9a07bca774aad8c0a6d352d061c6bbbb056f5c5eb5097d6bf7274"
   }
  }
 },
 "nbformat": 4,
 "nbformat_minor": 2
}
